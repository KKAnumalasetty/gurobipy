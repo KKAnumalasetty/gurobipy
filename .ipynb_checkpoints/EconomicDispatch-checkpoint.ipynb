{
 "cells": [
  {
   "cell_type": "code",
   "execution_count": 17,
   "metadata": {},
   "outputs": [
    {
     "name": "stdout",
     "output_type": "stream",
     "text": [
      "Parameter Method unchanged\n",
      "   Value: -1  Min: -1  Max: 5  Default: -1\n",
      "Total Load per period\n",
      "[281.0, 352.7, 424.4, 496.1, 567.8, 639.5, 711.2, 782.9, 854.6, 926.3000000000001, 998.0]\n",
      "Objective per period\n",
      "[84037.84999999999, 105758.02056686045, 147715.9420639002, 203091.65467032706, 268132.17460228805, 342712.4082488302, 426832.35560995335, 522137.8073304251, 631691.6723880627, 760550.4963675376, 911044.09]\n",
      "Power(Period, Generated)\n",
      "[[ 28.   90.   68.   76.   19. ]\n",
      " [ 99.7  90.   68.   76.   19. ]\n",
      " [171.4  90.   68.   76.   19. ]\n",
      " [ 28.   90.   93.1 266.   19. ]\n",
      " [ 28.   90.  164.8 266.   19. ]\n",
      " [ 28.  284.   68.  240.5  19. ]\n",
      " [206.  284.   68.  134.2  19. ]\n",
      " [206.  284.   68.  205.9  19. ]\n",
      " [ 62.6 284.  189.  266.   53. ]\n",
      " [134.3 284.  189.  266.   53. ]\n",
      " [206.  284.  189.  266.   53. ]]\n"
     ]
    }
   ],
   "source": [
    "from gurobipy import *\n",
    "from prettytable import PrettyTable\n",
    "from numpy import array, concatenate,append\n",
    "\n",
    "EC = Model('Economic Dispatch')\n",
    "Gen = ['Gen1','Gen2', 'Gen3', 'Gen4', 'Gen5']\n",
    "GenAt = {Gen[0]:{'a':3 ,'b':20 ,'c':100 , 'Pmin':28 ,'Pmax':206 },\n",
    "      Gen[1]:{'a':4.05 ,'b':18.07 ,'c':98.87 , 'Pmin':90 ,'Pmax':284 },\n",
    "      Gen[2]:{'a':4.05 ,'b':15.55 ,'c':104.26 , 'Pmin':68 ,'Pmax':189 },\n",
    "      Gen[3]:{'a':3.99 ,'b':19.21 ,'c':107.21 , 'Pmin':76 ,'Pmax':266 },  \n",
    "      Gen[4]:{'a':3.88 ,'b':26.18 ,'c':95.31 , 'Pmin':19 ,'Pmax':53 }  }\n",
    "\n",
    "\n",
    "\n",
    "Iter =11\n",
    "Load=[]\n",
    "TotalLoad=[]\n",
    "Objective=[]\n",
    "Var=[]\n",
    "for c in range(Iter):\n",
    "    Demand = quicksum(GenAt[i]['Pmin'] for i in Gen) + \\\n",
    "    ((c)/(Iter-1))*quicksum(GenAt[i]['Pmax'] - GenAt[i]['Pmin'] for i in Gen)\n",
    "    Load.append(Demand)\n",
    "\n",
    "\n",
    "\n",
    "\n",
    "for k in range(Iter):\n",
    "   \n",
    "    P = EC.addVars(Gen,lb = [GenAt[i]['Pmin'] for i in Gen], ub = [GenAt[i]['Pmax'] for i in Gen],name = 'Power')\n",
    "    GenTotal = quicksum(P[i] for i in Gen)\n",
    "    GenCost = quicksum(GenAt[i]['c']+GenAt[i]['b']*P[i]+GenAt[i]['a']*P[i]*P[i] for i in Gen)\n",
    "    EC.setObjective(GenCost, GRB.MINIMIZE)\n",
    "    target = EC.addConstr( GenTotal == Load[k], name = 'DemandConst')\n",
    "   \n",
    "    \n",
    "\n",
    "    EC.Params.Method=-1\n",
    "    EC.setParam( 'OutputFlag', False )\n",
    "    EC.optimize()\n",
    "    TotalLoad.append(Load[k].getValue())\n",
    "    v = EC.getVars()\n",
    "    Obj = EC.objVal\n",
    "    Objective.append(EC.objVal)\n",
    "    \n",
    "\n",
    "    status = EC.status\n",
    "    if status == GRB.Status.INF_OR_UNBD or status == GRB.Status.INFEASIBLE \\\n",
    "    or status == GRB.Status.UNBOUNDED:\n",
    "        EC.computeIIS()\n",
    "        EC.write(\"model.ilp\")\n",
    "\n",
    "print(\"Total Load per period\")    \n",
    "print(TotalLoad)\n",
    "\n",
    "print( \"Objective per period\")\n",
    "print( Objective)\n",
    "\n",
    "for v in EC.getVars():\n",
    "        Var.append(v.x)\n",
    "        \n",
    "Power = array(Var).reshape(Iter,len(Gen))\n",
    "print(\"Power(Period, Generated)\")\n",
    "print(Power)"
   ]
  },
  {
   "cell_type": "code",
   "execution_count": 29,
   "metadata": {},
   "outputs": [
    {
     "name": "stdout",
     "output_type": "stream",
     "text": [
      "[[281. ]\n",
      " [352.7]\n",
      " [424.4]\n",
      " [496.1]\n",
      " [567.8]\n",
      " [639.5]\n",
      " [711.2]\n",
      " [782.9]\n",
      " [854.6]\n",
      " [926.3]\n",
      " [998. ]]\n"
     ]
    }
   ],
   "source": [
    "TotalLoad = array(TotalLoad,  ndmin=2)\n",
    "TotalLoad = TotalLoad.T\n",
    "print(TotalLoad)"
   ]
  },
  {
   "cell_type": "code",
   "execution_count": 36,
   "metadata": {},
   "outputs": [
    {
     "data": {
      "text/plain": [
       "array([[ 28. ,  90. ,  68. ,  76. ,  19. ],\n",
       "       [ 99.7,  90. ,  68. ,  76. ,  19. ],\n",
       "       [171.4,  90. ,  68. ,  76. ,  19. ],\n",
       "       [ 28. ,  90. ,  93.1, 266. ,  19. ],\n",
       "       [ 28. ,  90. , 164.8, 266. ,  19. ],\n",
       "       [ 28. , 284. ,  68. , 240.5,  19. ],\n",
       "       [206. , 284. ,  68. , 134.2,  19. ],\n",
       "       [206. , 284. ,  68. , 205.9,  19. ],\n",
       "       [ 62.6, 284. , 189. , 266. ,  53. ],\n",
       "       [134.3, 284. , 189. , 266. ,  53. ],\n",
       "       [206. , 284. , 189. , 266. ,  53. ]])"
      ]
     },
     "execution_count": 36,
     "metadata": {},
     "output_type": "execute_result"
    }
   ],
   "source": [
    "Power"
   ]
  },
  {
   "cell_type": "code",
   "execution_count": 37,
   "metadata": {},
   "outputs": [
    {
     "data": {
      "text/plain": [
       "array([[281. ],\n",
       "       [352.7],\n",
       "       [424.4],\n",
       "       [496.1],\n",
       "       [567.8],\n",
       "       [639.5],\n",
       "       [711.2],\n",
       "       [782.9],\n",
       "       [854.6],\n",
       "       [926.3],\n",
       "       [998. ]])"
      ]
     },
     "execution_count": 37,
     "metadata": {},
     "output_type": "execute_result"
    }
   ],
   "source": [
    "TotalLoad"
   ]
  },
  {
   "cell_type": "code",
   "execution_count": 49,
   "metadata": {},
   "outputs": [
    {
     "name": "stdout",
     "output_type": "stream",
     "text": [
      "[[ 28.   90.   68.   76.   19.  281. ]\n",
      " [ 99.7  90.   68.   76.   19.  352.7]\n",
      " [171.4  90.   68.   76.   19.  424.4]\n",
      " [ 28.   90.   93.1 266.   19.  496.1]\n",
      " [ 28.   90.  164.8 266.   19.  567.8]\n",
      " [ 28.  284.   68.  240.5  19.  639.5]\n",
      " [206.  284.   68.  134.2  19.  711.2]\n",
      " [206.  284.   68.  205.9  19.  782.9]\n",
      " [ 62.6 284.  189.  266.   53.  854.6]\n",
      " [134.3 284.  189.  266.   53.  926.3]\n",
      " [206.  284.  189.  266.   53.  998. ]]\n"
     ]
    }
   ],
   "source": [
    "from numpy import insert,append \n",
    "print(append(Power, TotalLoad, axis=1))"
   ]
  },
  {
   "cell_type": "code",
   "execution_count": 32,
   "metadata": {},
   "outputs": [
    {
     "data": {
      "text/plain": [
       "array([[ 309. ,  371. ,  349. ,  357. ,  300. ],\n",
       "       [ 452.4,  442.7,  420.7,  428.7,  371.7],\n",
       "       [ 595.8,  514.4,  492.4,  500.4,  443.4],\n",
       "       [ 524.1,  586.1,  589.2,  762.1,  515.1],\n",
       "       [ 595.8,  657.8,  732.6,  833.8,  586.8],\n",
       "       [ 667.5,  923.5,  707.5,  880. ,  658.5],\n",
       "       [ 917.2,  995.2,  779.2,  845.4,  730.2],\n",
       "       [ 988.9, 1066.9,  850.9,  988.8,  801.9],\n",
       "       [ 917.2, 1138.6, 1043.6, 1120.6,  907.6],\n",
       "       [1060.6, 1210.3, 1115.3, 1192.3,  979.3],\n",
       "       [1204. , 1282. , 1187. , 1264. , 1051. ]])"
      ]
     },
     "execution_count": 32,
     "metadata": {},
     "output_type": "execute_result"
    }
   ],
   "source": []
  },
  {
   "cell_type": "code",
   "execution_count": null,
   "metadata": {},
   "outputs": [],
   "source": []
  }
 ],
 "metadata": {
  "kernelspec": {
   "display_name": "Python 3",
   "language": "python",
   "name": "python3"
  },
  "language_info": {
   "codemirror_mode": {
    "name": "ipython",
    "version": 3
   },
   "file_extension": ".py",
   "mimetype": "text/x-python",
   "name": "python",
   "nbconvert_exporter": "python",
   "pygments_lexer": "ipython3",
   "version": "3.6.6"
  }
 },
 "nbformat": 4,
 "nbformat_minor": 2
}
