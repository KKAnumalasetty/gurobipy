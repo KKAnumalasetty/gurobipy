{
 "cells": [
  {
   "cell_type": "code",
   "execution_count": 1,
   "metadata": {},
   "outputs": [],
   "source": [
    "from gurobipy import *\n",
    "from prettytable import PrettyTable\n",
    "from math import pi\n",
    "import numpy as np"
   ]
  },
  {
   "cell_type": "code",
   "execution_count": 2,
   "metadata": {},
   "outputs": [],
   "source": [
    "OPF = Model('3 bus OPF')"
   ]
  },
  {
   "cell_type": "code",
   "execution_count": 3,
   "metadata": {},
   "outputs": [],
   "source": [
    "#Sets\n",
    "G = 3 # Generators\n",
    "B = 3 # Bus\n",
    "L = 3 #Lines\n",
    "Gen = range(G)\n",
    "Bus = range(B)\n",
    "Line = range(L)"
   ]
  },
  {
   "cell_type": "code",
   "execution_count": 4,
   "metadata": {},
   "outputs": [],
   "source": [
    "X = {(0,1):10, (0,2):8, (1,2):5}\n",
    "L = {0:200, 1:550, 2:100} # electircal Load (MW)\n",
    "Sbase = 100 # Power Base (MVA) "
   ]
  },
  {
   "cell_type": "code",
   "execution_count": 5,
   "metadata": {},
   "outputs": [],
   "source": [
    "GenAt = {Gen[0]:{'a':0.001562 ,'b':7.92 ,'c':561, 'Pmin':150 ,'Pmax':600},\n",
    "         Gen[1]:{'a':0.001940 ,'b':7.85 ,'c':310, 'Pmin':100 ,'Pmax':400},\n",
    "         Gen[2]:{'a':0.004820 ,'b':7.97 ,'c':78,  'Pmin':50 , 'Pmax':200}}"
   ]
  },
  {
   "cell_type": "code",
   "execution_count": 6,
   "metadata": {},
   "outputs": [],
   "source": [
    "Pmin = [(GenAt[i]['Pmin'])/Sbase for i in Gen]\n",
    "Pmax = [(GenAt[i]['Pmax'])/Sbase for i in Gen]\n",
    "g = [a for a in Gen]\n",
    "b = [a for a in Bus]"
   ]
  },
  {
   "cell_type": "code",
   "execution_count": 7,
   "metadata": {},
   "outputs": [],
   "source": [
    "P = OPF.addVars(g, lb = Pmin, ub = Pmax, name = 'Gen')\n",
    "Delta = OPF.addVars(b, lb = -pi, ub = pi, name = 'PhaseAngle')\n",
    "Pij = OPF.addVars(X, name = 'line')"
   ]
  },
  {
   "cell_type": "code",
   "execution_count": 8,
   "metadata": {},
   "outputs": [],
   "source": [
    "BusAngle = OPF.addConstrs((Pij[(i,j)] == (Delta[i]-Delta[j])*X[(i,j)]*Sbase for (i,j) in Pij.keys()), name = 'BusAngle')\n",
    "lineFlow = OPF.addConstrs((P[i] + sum(Pij[(i,j)],) == L[i] for (i,j) in Pij.keys()), name = 'lineFlow')\n",
    "\n",
    "Delta[0].lb = 0\n",
    "Delta[0].ub = 0"
   ]
  },
  {
   "cell_type": "code",
   "execution_count": 9,
   "metadata": {},
   "outputs": [],
   "source": [
    "OF = quicksum(GenAt[i]['c']+GenAt[i]['b']*P[i]+GenAt[i]['a']*P[i]*P[i] for i in Gen)"
   ]
  },
  {
   "cell_type": "code",
   "execution_count": 10,
   "metadata": {},
   "outputs": [
    {
     "name": "stdout",
     "output_type": "stream",
     "text": [
      "Parameter Method unchanged\n",
      "   Value: -1  Min: -1  Max: 5  Default: -1\n",
      "Parameter OutputFlag unchanged\n",
      "   Value: 1  Min: 0  Max: 1  Default: 1\n",
      "Optimize a model with 6 rows, 9 columns and 15 nonzeros\n",
      "Model has 3 quadratic objective terms\n",
      "Coefficient statistics:\n",
      "  Matrix range     [1e+00, 1e+03]\n",
      "  Objective range  [8e+00, 8e+00]\n",
      "  QObjective range [3e-03, 1e-02]\n",
      "  Bounds range     [5e-01, 6e+00]\n",
      "  RHS range        [2e+02, 6e+02]\n",
      "Presolve removed 5 rows and 7 columns\n",
      "Presolve time: 0.01s\n",
      "\n",
      "Barrier solved model in 0 iterations and 0.01 seconds\n",
      "Model is infeasible\n",
      "Iteration    Objective       Primal Inf.    Dual Inf.      Time\n",
      "       0    9.4900000e+02   4.705310e+02   0.000000e+00      0s\n",
      "\n",
      "IIS computed: 6 constraints and 2 bounds\n",
      "IIS runtime: 0.00 seconds\n"
     ]
    }
   ],
   "source": [
    "OPF.setObjective(OF, GRB.MINIMIZE)\n",
    "OPF.Params.Method=-1\n",
    "OPF.setParam( 'OutputFlag', True )\n",
    "OPF.optimize()\n",
    "\n",
    "\n",
    "\n",
    "status = OPF.status\n",
    "if status == GRB.Status.INF_OR_UNBD or status == GRB.Status.INFEASIBLE \\\n",
    "or status == GRB.Status.UNBOUNDED:\n",
    "    OPF.computeIIS()\n",
    "    OPF.write(\"model.ilp\")"
   ]
  },
  {
   "cell_type": "code",
   "execution_count": 11,
   "metadata": {},
   "outputs": [
    {
     "name": "stdout",
     "output_type": "stream",
     "text": [
      "\n",
      "Statistics for model 3 bus OPF :\n",
      "  Linear constraint matrix    : 6 Constrs, 9 Vars, 15 NZs\n",
      "  Matrix coefficient range    : [ 1, 1000 ]\n",
      "  Objective coefficient range : [ 7.85, 7.97 ]\n",
      "  Variable bound range        : [ 0.5, 6 ]\n",
      "  RHS coefficient range       : [ 200, 550 ]\n"
     ]
    }
   ],
   "source": [
    "OPF.printStats()"
   ]
  },
  {
   "cell_type": "code",
   "execution_count": null,
   "metadata": {},
   "outputs": [],
   "source": []
  }
 ],
 "metadata": {
  "kernelspec": {
   "display_name": "Python 3",
   "language": "python",
   "name": "python3"
  },
  "language_info": {
   "codemirror_mode": {
    "name": "ipython",
    "version": 3
   },
   "file_extension": ".py",
   "mimetype": "text/x-python",
   "name": "python",
   "nbconvert_exporter": "python",
   "pygments_lexer": "ipython3",
   "version": "3.6.6"
  },
  "latex_envs": {
   "LaTeX_envs_menu_present": true,
   "autocomplete": true,
   "bibliofile": "biblio.bib",
   "cite_by": "apalike",
   "current_citInitial": 1,
   "eqLabelWithNumbers": true,
   "eqNumInitial": 1,
   "hotkeys": {
    "equation": "Ctrl-E",
    "itemize": "Ctrl-I"
   },
   "labels_anchors": false,
   "latex_user_defs": false,
   "report_style_numbering": false,
   "user_envs_cfg": false
  }
 },
 "nbformat": 4,
 "nbformat_minor": 2
}
