{
 "cells": [
  {
   "cell_type": "code",
   "execution_count": 1,
   "metadata": {},
   "outputs": [],
   "source": [
    "from gurobipy import *\n",
    "from prettytable import PrettyTable\n",
    "from math import pi\n",
    "import numpy as np"
   ]
  },
  {
   "cell_type": "code",
   "execution_count": 2,
   "metadata": {},
   "outputs": [],
   "source": [
    "OPF = Model('3 bus OPF')"
   ]
  },
  {
   "cell_type": "code",
   "execution_count": 3,
   "metadata": {},
   "outputs": [],
   "source": [
    "#Sets\n",
    "G = 3 # Generators\n",
    "B = 3 # Bus\n",
    "L = 3 #Lines\n",
    "Gen = range(G)\n",
    "Bus = range(B)\n",
    "Line = range(L)"
   ]
  },
  {
   "cell_type": "markdown",
   "metadata": {},
   "source": [
    "### Input the susceptance for each transmission line"
   ]
  },
  {
   "cell_type": "code",
   "execution_count": 4,
   "metadata": {},
   "outputs": [],
   "source": [
    "B1 = {(0,1):-10, (0,2):-8, (1,2):-5}"
   ]
  },
  {
   "cell_type": "markdown",
   "metadata": {},
   "source": [
    "### Generate the graph"
   ]
  },
  {
   "cell_type": "code",
   "execution_count": 5,
   "metadata": {},
   "outputs": [],
   "source": [
    "y = list(B1.keys())\n",
    "x=list(map (lambda t: (t[1], t[0]), y))\n",
    "B2=dict(zip(x,B1.values()))\n",
    "B = {**B1, **B2}"
   ]
  },
  {
   "cell_type": "code",
   "execution_count": 6,
   "metadata": {},
   "outputs": [],
   "source": [
    "L = {0:200, 1:550, 2:100} # electircal Load (MW)\n",
    "Sbase = 100 # Power Base (MVA)"
   ]
  },
  {
   "cell_type": "code",
   "execution_count": 7,
   "metadata": {},
   "outputs": [],
   "source": [
    "GenAt = {Gen[0]:{'a':0.001562 ,'b':7.92 ,'c':561, 'Pmin':150 ,'Pmax':600},\n",
    "         Gen[1]:{'a':0.001940 ,'b':7.85 ,'c':310, 'Pmin':100 ,'Pmax':400},\n",
    "         Gen[2]:{'a':0.004820 ,'b':7.97 ,'c':78,  'Pmin':50 , 'Pmax':200}}"
   ]
  },
  {
   "cell_type": "code",
   "execution_count": 8,
   "metadata": {},
   "outputs": [],
   "source": [
    "Pmin = [(GenAt[i]['Pmin']) for i in Gen]\n",
    "Pmax = [(GenAt[i]['Pmax']) for i in Gen]\n",
    "g = [a for a in Gen]\n",
    "b = [a for a in Bus]"
   ]
  },
  {
   "cell_type": "code",
   "execution_count": 9,
   "metadata": {},
   "outputs": [],
   "source": [
    "P = OPF.addVars(g, lb = Pmin, ub = Pmax, name = 'Pgen')\n",
    "Delta = OPF.addVars(b, lb = -6, ub = 6, name = 'Delta')\n",
    "Pij = OPF.addVars(B,lb = -1000,ub = 1000, name = 'PF')"
   ]
  },
  {
   "cell_type": "code",
   "execution_count": 10,
   "metadata": {},
   "outputs": [],
   "source": [
    "PowerFlow = OPF.addConstrs((Pij[(i,j)] == Sbase*(Delta[i]-Delta[j])*(B[(i,j)]) for (i,j) in Pij.keys()), name = 'PowerFlow')\n",
    "NetBus = OPF.addConstrs( (P[i] - (L[i])  == Pij.sum(i,'*') for i in Gen ), name = 'NetBus')\n",
    "\n",
    "Delta[0].lb = 0\n",
    "Delta[0].ub = 0"
   ]
  },
  {
   "cell_type": "code",
   "execution_count": 11,
   "metadata": {},
   "outputs": [],
   "source": [
    "OF = quicksum(GenAt[i]['c']+GenAt[i]['b']*P[i]+GenAt[i]['a']*P[i]*P[i] for i in Gen)"
   ]
  },
  {
   "cell_type": "code",
   "execution_count": 12,
   "metadata": {},
   "outputs": [
    {
     "name": "stdout",
     "output_type": "stream",
     "text": [
      "Parameter Method unchanged\n",
      "   Value: -1  Min: -1  Max: 5  Default: -1\n",
      "Parameter OutputFlag unchanged\n",
      "   Value: 1  Min: 0  Max: 1  Default: 1\n",
      "Optimize a model with 9 rows, 12 columns and 27 nonzeros\n",
      "Model has 3 quadratic objective terms\n",
      "Coefficient statistics:\n",
      "  Matrix range     [1e+00, 1e+03]\n",
      "  Objective range  [8e+00, 8e+00]\n",
      "  QObjective range [3e-03, 1e-02]\n",
      "  Bounds range     [6e+00, 1e+03]\n",
      "  RHS range        [1e+02, 6e+02]\n",
      "Presolve removed 4 rows and 5 columns\n",
      "Presolve time: 0.01s\n",
      "Presolved: 5 rows, 7 columns, 15 nonzeros\n",
      "Presolved model has 3 quadratic objective terms\n",
      "Ordering time: 0.00s\n",
      "\n",
      "Barrier statistics:\n",
      " AA' NZ     : 9.000e+00\n",
      " Factor NZ  : 1.500e+01\n",
      " Factor Ops : 5.500e+01 (less than 1 second per iteration)\n",
      " Threads    : 1\n",
      "\n",
      "                  Objective                Residual\n",
      "Iter       Primal          Dual         Primal    Dual     Compl     Time\n",
      "   0   1.57973258e+06 -2.17125949e+06  2.50e+03 9.93e+02  1.07e+06     0s\n",
      "   1   8.20297369e+03 -7.59920431e+05  2.50e-03 9.93e-04  5.49e+04     0s\n",
      "   2   8.20248654e+03  3.59674720e+03  1.25e-05 4.97e-06  3.29e+02     0s\n",
      "   3   8.20529932e+03  7.74849234e+03  1.25e-11 4.98e-12  3.26e+01     0s\n",
      "   4   8.19571827e+03  8.18166007e+03  1.71e-13 2.49e-14  1.00e+00     0s\n",
      "   5   8.19436249e+03  8.19368128e+03  2.44e-12 5.33e-15  4.87e-02     0s\n",
      "   6   8.19435612e+03  8.19435545e+03  9.15e-12 1.07e-14  4.78e-05     0s\n",
      "   7   8.19435612e+03  8.19435612e+03  1.34e-11 8.88e-15  4.79e-08     0s\n",
      "   8   8.19435612e+03  8.19435612e+03  6.91e-12 1.42e-14  4.79e-11     0s\n",
      "\n",
      "Barrier solved model in 8 iterations and 0.03 seconds\n",
      "Optimal objective 8.19435612e+03\n",
      "\n"
     ]
    }
   ],
   "source": [
    "OPF.setObjective(OF, GRB.MINIMIZE)\n",
    "OPF.Params.Method=-1\n",
    "OPF.setParam( 'OutputFlag', True )\n",
    "OPF.optimize()\n",
    "\n",
    "\n",
    "\n",
    "status = OPF.status\n",
    "if status == GRB.Status.INF_OR_UNBD or status == GRB.Status.INFEASIBLE \\\n",
    "or status == GRB.Status.UNBOUNDED:\n",
    "    OPF.computeIIS()\n",
    "    OPF.write(\"model.ilp\")"
   ]
  },
  {
   "cell_type": "code",
   "execution_count": 13,
   "metadata": {},
   "outputs": [
    {
     "name": "stdout",
     "output_type": "stream",
     "text": [
      "\n",
      "Statistics for model 3 bus OPF :\n",
      "  Linear constraint matrix    : 9 Constrs, 12 Vars, 27 NZs\n",
      "  Matrix coefficient range    : [ 1, 1000 ]\n",
      "  Objective coefficient range : [ 7.85, 7.97 ]\n",
      "  Variable bound range        : [ 6, 1000 ]\n",
      "  RHS coefficient range       : [ 100, 550 ]\n"
     ]
    }
   ],
   "source": [
    "OPF.printStats()"
   ]
  },
  {
   "cell_type": "code",
   "execution_count": 14,
   "metadata": {},
   "outputs": [
    {
     "data": {
      "text/plain": [
       "[<gurobi.Var Pgen[0] (value 393.16983694657904)>,\n",
       " <gurobi.Var Pgen[1] (value 334.60375531242556)>,\n",
       " <gurobi.Var Pgen[2] (value 122.22640774079191)>,\n",
       " <gurobi.Var Delta[0] (value 0.0)>,\n",
       " <gurobi.Var Delta[1] (value 0.15817759660199887)>,\n",
       " <gurobi.Var Delta[2] (value 0.04374030043086364)>,\n",
       " <gurobi.Var PF[0,1] (value 158.17759660199886)>,\n",
       " <gurobi.Var PF[0,2] (value 34.99224034469091)>,\n",
       " <gurobi.Var PF[1,2] (value -57.21864808561452)>,\n",
       " <gurobi.Var PF[1,0] (value -158.17759660199886)>,\n",
       " <gurobi.Var PF[2,0] (value -34.99224034469091)>,\n",
       " <gurobi.Var PF[2,1] (value 57.21864808551595)>]"
      ]
     },
     "execution_count": 14,
     "metadata": {},
     "output_type": "execute_result"
    }
   ],
   "source": [
    "OPF.getVars()"
   ]
  },
  {
   "cell_type": "code",
   "execution_count": null,
   "metadata": {},
   "outputs": [],
   "source": []
  }
 ],
 "metadata": {
  "kernelspec": {
   "display_name": "Python 3",
   "language": "python",
   "name": "python3"
  },
  "language_info": {
   "codemirror_mode": {
    "name": "ipython",
    "version": 3
   },
   "file_extension": ".py",
   "mimetype": "text/x-python",
   "name": "python",
   "nbconvert_exporter": "python",
   "pygments_lexer": "ipython3",
   "version": "3.6.6"
  },
  "latex_envs": {
   "LaTeX_envs_menu_present": true,
   "autocomplete": true,
   "bibliofile": "biblio.bib",
   "cite_by": "apalike",
   "current_citInitial": 1,
   "eqLabelWithNumbers": true,
   "eqNumInitial": 1,
   "hotkeys": {
    "equation": "Ctrl-E",
    "itemize": "Ctrl-I"
   },
   "labels_anchors": false,
   "latex_user_defs": false,
   "report_style_numbering": false,
   "user_envs_cfg": false
  }
 },
 "nbformat": 4,
 "nbformat_minor": 2
}
