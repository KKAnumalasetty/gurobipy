{
 "cells": [
  {
   "cell_type": "code",
   "execution_count": 1,
   "metadata": {},
   "outputs": [],
   "source": [
    "from gurobipy import *\n",
    "from prettytable import PrettyTable\n",
    "from math import pi\n",
    "import numpy as np"
   ]
  },
  {
   "cell_type": "code",
   "execution_count": 2,
   "metadata": {},
   "outputs": [],
   "source": [
    "OPF = Model('3 bus OPF')"
   ]
  },
  {
   "cell_type": "code",
   "execution_count": 3,
   "metadata": {},
   "outputs": [],
   "source": [
    "#Sets\n",
    "G = 3 # Generators\n",
    "B = 3 # Bus\n",
    "L = 3 #Lines\n",
    "T = 1\n",
    "Gen = range(G)\n",
    "Bus = range(B)\n",
    "Line = range(L)\n",
    "Period = range(T)"
   ]
  },
  {
   "cell_type": "markdown",
   "metadata": {},
   "source": [
    "### Input the susceptance for each transmission line"
   ]
  },
  {
   "cell_type": "code",
   "execution_count": 4,
   "metadata": {},
   "outputs": [],
   "source": [
    "B1 = {(0,1):{'B':-10 ,'Limit':1000 },\n",
    "      (0,2):{'B':-8 ,'Limit':1000 },\n",
    "      (1,2):{'B':-5 ,'Limit':1500 } }"
   ]
  },
  {
   "cell_type": "markdown",
   "metadata": {},
   "source": [
    "### Generate the graph"
   ]
  },
  {
   "cell_type": "code",
   "execution_count": 5,
   "metadata": {},
   "outputs": [],
   "source": [
    "y = list(B1.keys())\n",
    "x=list(map (lambda t: (t[1], t[0]), y))\n",
    "B2=dict(zip(x,B1.values()))\n",
    "B3 = {**B1, **B2}"
   ]
  },
  {
   "cell_type": "code",
   "execution_count": 6,
   "metadata": {},
   "outputs": [
    {
     "data": {
      "text/plain": [
       "{(0, 1, 0): {'B': -10, 'Limit': 1000},\n",
       " (0, 2, 0): {'B': -8, 'Limit': 1000},\n",
       " (1, 2, 0): {'B': -5, 'Limit': 1500},\n",
       " (1, 0, 0): {'B': -10, 'Limit': 1000},\n",
       " (2, 0, 0): {'B': -8, 'Limit': 1000},\n",
       " (2, 1, 0): {'B': -5, 'Limit': 1500}}"
      ]
     },
     "execution_count": 6,
     "metadata": {},
     "output_type": "execute_result"
    }
   ],
   "source": [
    "tuple_list = list(B3.keys())\n",
    "desired_list = [tuple(list(tup)+[t])  for t in Period for tup in tuple_list]\n",
    "desired_list\n",
    "vals=[B3[(i,j)] for (i,j) in B3.keys()]*T\n",
    "B = dict(zip(desired_list,vals))\n",
    "B"
   ]
  },
  {
   "cell_type": "code",
   "execution_count": 7,
   "metadata": {},
   "outputs": [],
   "source": [
    "L = {(0,0):200, (1,0):550, (2,0):100, (0,1):200, (1,1):550, (2,1):100} # electircal Load (MW)\n",
    "Sbase = 100 # Power Base (MVA)"
   ]
  },
  {
   "cell_type": "code",
   "execution_count": 8,
   "metadata": {},
   "outputs": [
    {
     "data": {
      "text/plain": [
       "{0: {'a': 0.001562, 'b': 7.92, 'c': 561, 'Pmin': 150, 'Pmax': 600},\n",
       " 1: {'a': 0.00194, 'b': 7.85, 'c': 310, 'Pmin': 100, 'Pmax': 400},\n",
       " 2: {'a': 0.00482, 'b': 7.97, 'c': 78, 'Pmin': 50, 'Pmax': 200}}"
      ]
     },
     "execution_count": 8,
     "metadata": {},
     "output_type": "execute_result"
    }
   ],
   "source": [
    "GenAt = {Gen[0]:{'a':0.001562 ,'b':7.92 ,'c':561, 'Pmin':150 ,'Pmax':600},\n",
    "         Gen[1]:{'a':0.001940 ,'b':7.85 ,'c':310, 'Pmin':100 ,'Pmax':400},\n",
    "         Gen[2]:{'a':0.004820 ,'b':7.97 ,'c':78,  'Pmin':50 , 'Pmax':200}}\n",
    "GenAt"
   ]
  },
  {
   "cell_type": "code",
   "execution_count": 9,
   "metadata": {},
   "outputs": [],
   "source": [
    "Pmin = [(GenAt[i]['Pmin']) for i in Gen]\n",
    "Pmax = [(GenAt[i]['Pmax']) for i in Gen]\n",
    "g = [(a,t)  for t in Period for a in Gen]\n",
    "b = [(a,t)  for t in Period for a in Bus] "
   ]
  },
  {
   "cell_type": "code",
   "execution_count": 10,
   "metadata": {},
   "outputs": [
    {
     "data": {
      "text/plain": [
       "{(0, 0): <gurobi.Var *Awaiting Model Update*>,\n",
       " (1, 0): <gurobi.Var *Awaiting Model Update*>,\n",
       " (2, 0): <gurobi.Var *Awaiting Model Update*>}"
      ]
     },
     "execution_count": 10,
     "metadata": {},
     "output_type": "execute_result"
    }
   ],
   "source": [
    "P = OPF.addVars(g, name = 'Pgen')\n",
    "U = OPF.addVars(g, vtype = GRB.BINARY, name = 'Status')\n",
    "Delta = OPF.addVars(b, lb = -6*T, ub = 6*T, name = 'Delta')\n",
    "Pij = OPF.addVars(B, lb = [-B[(i,j,t)]['Limit']  for (i,j,t) in B.keys()], \n",
    "                  ub = [B[(i,j,t)]['Limit'] for (i,j,t) in B.keys()], name = 'PF')\n",
    "U"
   ]
  },
  {
   "cell_type": "code",
   "execution_count": 11,
   "metadata": {},
   "outputs": [],
   "source": [
    "PowerFlow = OPF.addConstrs((Pij[(i,j,t)] == Sbase*(Delta[i,t]-Delta[j,t])*(B[(i,j,t)]['B']) for (i,j,t) in Pij.keys()), name = 'PowerFlow')\n",
    "NetBus = OPF.addConstrs( (P[(i,t)] - (L[i,t])  == Pij.sum(i,'*',t) for (i,t) in g ), name = 'NetBus')\n",
    "\n",
    "PMAX = OPF.addConstrs((P[(i,t)] <= GenAt[i]['Pmax']*U[(i,t)] for (i,t) in g), name = 'Pmax')\n",
    "PMIN = OPF.addConstrs((P[(i,t)] >= GenAt[i]['Pmin']*U[(i,t)] for (i,t) in g), name = 'Pin')\n",
    "\n",
    "for t in Period:\n",
    "    Delta[(0,t)].lb = 0\n",
    "    Delta[(0,t)].ub = 0"
   ]
  },
  {
   "cell_type": "code",
   "execution_count": 12,
   "metadata": {},
   "outputs": [],
   "source": [
    "OF = quicksum(GenAt[i]['c']+GenAt[i]['b']*P[(i,t)]+GenAt[i]['a']*P[(i,t)]*P[(i,t)] for (i,t) in g)"
   ]
  },
  {
   "cell_type": "code",
   "execution_count": 13,
   "metadata": {},
   "outputs": [
    {
     "name": "stdout",
     "output_type": "stream",
     "text": [
      "Parameter Method unchanged\n",
      "   Value: -1  Min: -1  Max: 5  Default: -1\n",
      "Parameter OutputFlag unchanged\n",
      "   Value: 1  Min: 0  Max: 1  Default: 1\n",
      "Optimize a model with 15 rows, 15 columns and 39 nonzeros\n",
      "Model has 3 quadratic objective terms\n",
      "Variable types: 12 continuous, 3 integer (3 binary)\n",
      "Coefficient statistics:\n",
      "  Matrix range     [1e+00, 1e+03]\n",
      "  Objective range  [8e+00, 8e+00]\n",
      "  QObjective range [3e-03, 1e-02]\n",
      "  Bounds range     [1e+00, 2e+03]\n",
      "  RHS range        [1e+02, 6e+02]\n",
      "Presolve removed 11 rows and 10 columns\n",
      "Presolve time: 0.00s\n",
      "Presolved: 4 rows, 5 columns, 10 nonzeros\n",
      "Presolved model has 3 quadratic objective terms\n",
      "Variable types: 4 continuous, 1 integer (1 binary)\n",
      "\n",
      "Root relaxation: objective 8.194356e+03, 10 iterations, 0.00 seconds\n",
      "\n",
      "    Nodes    |    Current Node    |     Objective Bounds      |     Work\n",
      " Expl Unexpl |  Obj  Depth IntInf | Incumbent    BestBd   Gap | It/Node Time\n",
      "\n",
      "     0     0 8194.35612    0    1          - 8194.35612      -     -    0s\n",
      "H    0     0                    8279.2904911 8194.35612  1.03%     -    0s\n",
      "H    0     0                    8194.3561213 8194.35612  0.00%     -    0s\n",
      "\n",
      "Explored 1 nodes (10 simplex iterations) in 0.03 seconds\n",
      "Thread count was 8 (of 8 available processors)\n",
      "\n",
      "Solution count 2: 8194.36 8279.29 \n",
      "\n",
      "Optimal solution found (tolerance 1.00e-04)\n",
      "Best objective 8.194356121270e+03, best bound 8.194356121270e+03, gap 0.0000%\n"
     ]
    }
   ],
   "source": [
    "OPF.setObjective(OF, GRB.MINIMIZE)\n",
    "OPF.Params.Method=-1\n",
    "OPF.setParam( 'OutputFlag', True )\n",
    "OPF.optimize()\n",
    "\n",
    "\n",
    "\n",
    "status = OPF.status\n",
    "if status == GRB.Status.INF_OR_UNBD or status == GRB.Status.INFEASIBLE \\\n",
    "or status == GRB.Status.UNBOUNDED:\n",
    "    OPF.computeIIS()\n",
    "    OPF.write(\"model.ilp\")\n",
    "OPF.write(\"model.lp\")"
   ]
  },
  {
   "cell_type": "code",
   "execution_count": 14,
   "metadata": {},
   "outputs": [
    {
     "name": "stdout",
     "output_type": "stream",
     "text": [
      "\n",
      "Statistics for model 3 bus OPF :\n",
      "  Linear constraint matrix    : 15 Constrs, 15 Vars, 39 NZs\n",
      "  Variable types              : 12 Continuous, 3 Integer (3 Binary)\n",
      "  Matrix coefficient range    : [ 1, 1000 ]\n",
      "  Objective coefficient range : [ 7.85, 7.97 ]\n",
      "  Variable bound range        : [ 1, 1500 ]\n",
      "  RHS coefficient range       : [ 100, 550 ]\n"
     ]
    }
   ],
   "source": [
    "OPF.printStats()"
   ]
  },
  {
   "cell_type": "code",
   "execution_count": 15,
   "metadata": {
    "scrolled": true
   },
   "outputs": [
    {
     "data": {
      "text/plain": [
       "[<gurobi.Var Pgen[0,0] (value 393.16983694560304)>,\n",
       " <gurobi.Var Pgen[1,0] (value 334.603755313934)>,\n",
       " <gurobi.Var Pgen[2,0] (value 122.22640774046309)>,\n",
       " <gurobi.Var Status[0,0] (value 1.0)>,\n",
       " <gurobi.Var Status[1,0] (value 1.0)>,\n",
       " <gurobi.Var Status[2,0] (value 1.0)>,\n",
       " <gurobi.Var Delta[0,0] (value 0.0)>,\n",
       " <gurobi.Var Delta[1,0] (value 0.1581775966009732)>,\n",
       " <gurobi.Var Delta[2,0] (value 0.043740300430787665)>,\n",
       " <gurobi.Var PF[0,1,0] (value 158.1775966009732)>,\n",
       " <gurobi.Var PF[0,2,0] (value 34.99224034463013)>,\n",
       " <gurobi.Var PF[1,2,0] (value -57.21864808509277)>,\n",
       " <gurobi.Var PF[1,0,0] (value -158.1775966009732)>,\n",
       " <gurobi.Var PF[2,0,0] (value -34.99224034463013)>,\n",
       " <gurobi.Var PF[2,1,0] (value 57.21864808509277)>]"
      ]
     },
     "execution_count": 15,
     "metadata": {},
     "output_type": "execute_result"
    }
   ],
   "source": [
    "OPF.getVars()"
   ]
  },
  {
   "cell_type": "code",
   "execution_count": null,
   "metadata": {},
   "outputs": [],
   "source": []
  },
  {
   "cell_type": "code",
   "execution_count": 16,
   "metadata": {},
   "outputs": [],
   "source": [
    "tuple_list = [(0,1), (0,2), (1,2)]\n",
    "time = range(5)"
   ]
  },
  {
   "cell_type": "code",
   "execution_count": 17,
   "metadata": {},
   "outputs": [],
   "source": [
    "desired_list = [tuple(list(tup)+[t])  for t in time for tup in tuple_list]"
   ]
  },
  {
   "cell_type": "code",
   "execution_count": 18,
   "metadata": {},
   "outputs": [
    {
     "data": {
      "text/plain": [
       "[(0, 1, 0),\n",
       " (0, 2, 0),\n",
       " (1, 2, 0),\n",
       " (0, 1, 1),\n",
       " (0, 2, 1),\n",
       " (1, 2, 1),\n",
       " (0, 1, 2),\n",
       " (0, 2, 2),\n",
       " (1, 2, 2),\n",
       " (0, 1, 3),\n",
       " (0, 2, 3),\n",
       " (1, 2, 3),\n",
       " (0, 1, 4),\n",
       " (0, 2, 4),\n",
       " (1, 2, 4)]"
      ]
     },
     "execution_count": 18,
     "metadata": {},
     "output_type": "execute_result"
    }
   ],
   "source": [
    "desired_list"
   ]
  },
  {
   "cell_type": "code",
   "execution_count": null,
   "metadata": {},
   "outputs": [],
   "source": []
  }
 ],
 "metadata": {
  "kernelspec": {
   "display_name": "Python 3",
   "language": "python",
   "name": "python3"
  },
  "language_info": {
   "codemirror_mode": {
    "name": "ipython",
    "version": 3
   },
   "file_extension": ".py",
   "mimetype": "text/x-python",
   "name": "python",
   "nbconvert_exporter": "python",
   "pygments_lexer": "ipython3",
   "version": "3.6.6"
  },
  "latex_envs": {
   "LaTeX_envs_menu_present": true,
   "autocomplete": true,
   "bibliofile": "biblio.bib",
   "cite_by": "apalike",
   "current_citInitial": 1,
   "eqLabelWithNumbers": true,
   "eqNumInitial": 1,
   "hotkeys": {
    "equation": "Ctrl-E",
    "itemize": "Ctrl-I"
   },
   "labels_anchors": false,
   "latex_user_defs": false,
   "report_style_numbering": false,
   "user_envs_cfg": false
  }
 },
 "nbformat": 4,
 "nbformat_minor": 2
}
