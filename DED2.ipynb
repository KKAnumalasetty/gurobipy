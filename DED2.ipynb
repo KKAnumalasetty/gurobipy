{
 "cells": [
  {
   "cell_type": "code",
   "execution_count": 1,
   "metadata": {},
   "outputs": [],
   "source": [
    "from gurobipy import *\n",
    "from prettytable import PrettyTable\n",
    "import numpy as np"
   ]
  },
  {
   "cell_type": "code",
   "execution_count": 2,
   "metadata": {},
   "outputs": [],
   "source": [
    "EC = Model('Dynamic Economic Dispatch')"
   ]
  },
  {
   "cell_type": "code",
   "execution_count": 3,
   "metadata": {},
   "outputs": [],
   "source": [
    "#Sets\n",
    "Gen = range(4)\n",
    "T =  3# Demand per Period\n",
    "Period = range(T)\n",
    "\n",
    "GenAt = {Gen[0]:{'a':0.12 ,'b':14.80 ,'c':89, 'd':1.2 ,'e':-5 ,'f':3 , 'Pmin':28 ,'Pmax':200,'RU0':40,'RD0':40 },\n",
    "      Gen[1]:{'a':0.17 ,'b':16.57 ,'c':83 , 'd':2.3 ,'e':-4.24 ,'f':6.09 , 'Pmin':20 ,'Pmax':290,'RU0':30,'RD0':30  },\n",
    "      Gen[2]:{'a':0.15 ,'b':15.55 ,'c':100 , 'd':1.1 ,'e':-2.15 ,'f':5.69 ,'Pmin':30 ,'Pmax':190,'RU0':30,'RD0':30  },\n",
    "      Gen[3]:{'a':0.19 ,'b':16.21 ,'c':70 , 'd':1.1 ,'e':-3.99 ,'f':6.2 ,'Pmin':20 ,'Pmax':260, 'RU0':50,'RD0':50 }  }"
   ]
  },
  {
   "cell_type": "code",
   "execution_count": 4,
   "metadata": {},
   "outputs": [],
   "source": [
    "Demand = [ 200, 800, 300]"
   ]
  },
  {
   "cell_type": "code",
   "execution_count": 5,
   "metadata": {},
   "outputs": [],
   "source": [
    "P = EC.addVars(Gen,Period)\n",
    "uB = EC.addConstrs(P[(i, j)]  <= GenAt[i]['Pmax'] for i in Gen for j in Period)\n",
    "lB = EC.addConstrs(P[(i, j)]  >= GenAt[i]['Pmin'] for i in Gen for j in Period)\n",
    "#RU = EC.addConstrs((P[(i, j)] - P[(i, j-1)]  <= GenAt[i]['RU0']) for i in Gen for j in timePeriods)\n",
    "#print(RU)\n",
    "#RD = EC.addConstrs(P[(i, j)] - P[(i, j)]  <= GenAt[i]['RD0'] for i in Gen for j in Period)\n",
    "Load = EC.addConstrs((P.sum('*',j) == Demand[j] for j in Period), name = 'DemandConst')\n",
    "GenCost =quicksum(GenAt[i]['c']+GenAt[i]['b']*P[i,j]+GenAt[i]['a']*P[i,j]*P[i,j] for i in Gen for j in Period) \n",
    "EC.setObjective(GenCost, GRB.MINIMIZE)"
   ]
  },
  {
   "cell_type": "code",
   "execution_count": 6,
   "metadata": {},
   "outputs": [
    {
     "name": "stdout",
     "output_type": "stream",
     "text": [
      "Parameter Method unchanged\n",
      "   Value: -1  Min: -1  Max: 5  Default: -1\n"
     ]
    }
   ],
   "source": [
    "EC.setObjective(GenCost, GRB.MINIMIZE)\n",
    "EC.Params.Method=-1\n",
    "EC.setParam( 'OutputFlag', False )\n",
    "EC.optimize()\n",
    "\n",
    "\n",
    "\n",
    "status = EC.status\n",
    "if status == GRB.Status.INF_OR_UNBD or status == GRB.Status.INFEASIBLE \\\n",
    "or status == GRB.Status.UNBOUNDED:\n",
    "    EC.computeIIS()\n",
    "    EC.write(\"model.ilp\")"
   ]
  },
  {
   "cell_type": "code",
   "execution_count": 7,
   "metadata": {},
   "outputs": [],
   "source": [
    "PVar = np.asarray([[P[i,j].x for i in Gen] for j in Period])"
   ]
  },
  {
   "cell_type": "code",
   "execution_count": 8,
   "metadata": {},
   "outputs": [
    {
     "name": "stdout",
     "output_type": "stream",
     "text": [
      "+----------+--------------------+--------------------+--------------------+--------------------+\n",
      "|  Period  |        Gen0        |        Gen1        |        Gen2        |        Gen3        |\n",
      "+----------+--------------------+--------------------+--------------------+--------------------+\n",
      "| Period 0 | 67.38454706927152  | 42.359680284191796 | 51.40763765541746  | 38.848134991119224 |\n",
      "| Period 1 | 199.99999999999991 |  215.888888888889  | 189.99999999999977 | 194.11111111111126 |\n",
      "| Period 2 | 99.25745016776077  | 64.85820011841045  | 76.90596013419841  | 58.97838957963039  |\n",
      "+----------+--------------------+--------------------+--------------------+--------------------+\n"
     ]
    }
   ],
   "source": [
    "Heading1 = ['Period']\n",
    "Heading2 = ['Gen' + str(i) for i in Gen]\n",
    "Headings = Heading1 + Heading2\n",
    "Results = PrettyTable(Headings)\n",
    "for j in Period:\n",
    "    lis1 = ['Period ' + str(j)]\n",
    "    lis2 = list(PVar[j,:])\n",
    "    lis = lis1 +lis2\n",
    "    Results.add_row(lis)              \n",
    "print(Results)"
   ]
  },
  {
   "cell_type": "code",
   "execution_count": 9,
   "metadata": {},
   "outputs": [
    {
     "name": "stdout",
     "output_type": "stream",
     "text": [
      "\n",
      "Statistics for model Dynamic Economic Dispatch :\n",
      "  Linear constraint matrix    : 27 Constrs, 12 Vars, 36 NZs\n",
      "  Matrix coefficient range    : [ 1, 1 ]\n",
      "  Objective coefficient range : [ 14.8, 16.57 ]\n",
      "  Variable bound range        : [ 0, 0 ]\n",
      "  RHS coefficient range       : [ 20, 800 ]\n"
     ]
    }
   ],
   "source": [
    "EC.printStats()"
   ]
  },
  {
   "cell_type": "code",
   "execution_count": null,
   "metadata": {},
   "outputs": [],
   "source": []
  }
 ],
 "metadata": {
  "kernelspec": {
   "display_name": "Python 3",
   "language": "python",
   "name": "python3"
  },
  "language_info": {
   "codemirror_mode": {
    "name": "ipython",
    "version": 3
   },
   "file_extension": ".py",
   "mimetype": "text/x-python",
   "name": "python",
   "nbconvert_exporter": "python",
   "pygments_lexer": "ipython3",
   "version": "3.6.6"
  },
  "latex_envs": {
   "LaTeX_envs_menu_present": true,
   "autocomplete": true,
   "bibliofile": "biblio.bib",
   "cite_by": "apalike",
   "current_citInitial": 1,
   "eqLabelWithNumbers": true,
   "eqNumInitial": 1,
   "hotkeys": {
    "equation": "Ctrl-E",
    "itemize": "Ctrl-I"
   },
   "labels_anchors": false,
   "latex_user_defs": false,
   "report_style_numbering": false,
   "user_envs_cfg": false
  }
 },
 "nbformat": 4,
 "nbformat_minor": 2
}
