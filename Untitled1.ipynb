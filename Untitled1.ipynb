{
 "cells": [
  {
   "cell_type": "code",
   "execution_count": 1,
   "metadata": {},
   "outputs": [],
   "source": [
    "Delta = [0, -0.1582, -0.0437]\n",
    "PF = [158.18, 34.992, -57.2186]\n",
    "Pgen = [393.17, 334.61, 122.23]"
   ]
  },
  {
   "cell_type": "code",
   "execution_count": 26,
   "metadata": {},
   "outputs": [
    {
     "name": "stdout",
     "output_type": "stream",
     "text": [
      "(0,1) -0.020000000000010232\n",
      "(0,2) 0.031999999999996476\n",
      "(1,2) 0.03140000000000498\n",
      "(1,0) 0.020000000000010232\n",
      "(2,0) -0.031999999999996476\n",
      "(2,1) -0.03140000000000498\n"
     ]
    }
   ],
   "source": [
    "print('(0,1)',-1000*Delta[0] +1000*Delta[1] + PF[0])\n",
    "print('(0,2)',-800*Delta[0] +800*Delta[2] + PF[1])\n",
    "print('(1,2)',-500*Delta[1] +500*Delta[2] + PF[2])\n",
    "print('(1,0)',1000*Delta[0] -1000*Delta[1] - PF[0])\n",
    "print('(2,0)',800*Delta[0] -800*Delta[2] - PF[1])\n",
    "print('(2,1)',500*Delta[1] -500*Delta[2] - PF[2])"
   ]
  },
  {
   "cell_type": "code",
   "execution_count": 29,
   "metadata": {},
   "outputs": [
    {
     "name": "stdout",
     "output_type": "stream",
     "text": [
      "NetBus 0 -0.001999999999981128\n",
      "NetBus 1 0.008600000000001273\n",
      "NetBus 2 0.0033999999999991815\n"
     ]
    }
   ],
   "source": [
    "print('NetBus 0', Pgen[0] - PF[0] - PF[1]-200)\n",
    "print('NetBus 1', Pgen[1] - PF[2] + PF[0]-550)\n",
    "print('NetBus 2', Pgen[2] + PF[1] + PF[2]-100)"
   ]
  },
  {
   "cell_type": "code",
   "execution_count": null,
   "metadata": {},
   "outputs": [],
   "source": []
  }
 ],
 "metadata": {
  "kernelspec": {
   "display_name": "Python 3",
   "language": "python",
   "name": "python3"
  },
  "language_info": {
   "codemirror_mode": {
    "name": "ipython",
    "version": 3
   },
   "file_extension": ".py",
   "mimetype": "text/x-python",
   "name": "python",
   "nbconvert_exporter": "python",
   "pygments_lexer": "ipython3",
   "version": "3.6.6"
  },
  "latex_envs": {
   "LaTeX_envs_menu_present": true,
   "autocomplete": true,
   "bibliofile": "biblio.bib",
   "cite_by": "apalike",
   "current_citInitial": 1,
   "eqLabelWithNumbers": true,
   "eqNumInitial": 1,
   "hotkeys": {
    "equation": "Ctrl-E",
    "itemize": "Ctrl-I"
   },
   "labels_anchors": false,
   "latex_user_defs": false,
   "report_style_numbering": false,
   "user_envs_cfg": false
  }
 },
 "nbformat": 4,
 "nbformat_minor": 2
}
