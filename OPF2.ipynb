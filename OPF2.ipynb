{
 "cells": [
  {
   "cell_type": "code",
   "execution_count": 1,
   "metadata": {},
   "outputs": [],
   "source": [
    "from gurobipy import *\n",
    "from prettytable import PrettyTable\n",
    "import numpy as np"
   ]
  },
  {
   "cell_type": "code",
   "execution_count": 2,
   "metadata": {},
   "outputs": [],
   "source": [
    "OPF = Model('2 bus OPF')"
   ]
  },
  {
   "cell_type": "code",
   "execution_count": 3,
   "metadata": {},
   "outputs": [],
   "source": [
    "#Sets\n",
    "G = 2 # Generators\n",
    "B = 2 # Bus\n",
    "L = 1 #Lines\n",
    "Gen = range(G)\n",
    "Bus = range(B)\n",
    "Line = range(L)"
   ]
  },
  {
   "cell_type": "code",
   "execution_count": 4,
   "metadata": {},
   "outputs": [],
   "source": [
    "L2= 400 # electircal Load (MW)\n",
    "X12 = 0.2 # Reactance (ohms)\n",
    "Sbase = 100 # Power Base (MVA)\n",
    "P12_max = 1.5 "
   ]
  },
  {
   "cell_type": "code",
   "execution_count": 5,
   "metadata": {},
   "outputs": [],
   "source": [
    "GenAt = {Gen[0]:{'a':3 ,'b':20 ,'c':100, 'Pmin':28 ,'Pmax':206},\n",
    "         Gen[1]:{'a':4.05 ,'b':18.07 ,'c':98.87, 'Pmin':90 ,'Pmax':284}}"
   ]
  },
  {
   "cell_type": "code",
   "execution_count": 6,
   "metadata": {},
   "outputs": [],
   "source": [
    "Pmin = [(GenAt[i]['Pmin'])/Sbase for i in Gen]\n",
    "Pmax = [(GenAt[i]['Pmax'])/Sbase for i in Gen]\n",
    "g = [a for a in Gen]\n",
    "b = [a for a in Bus]\n",
    "l = [a for a in Line]"
   ]
  },
  {
   "cell_type": "code",
   "execution_count": 7,
   "metadata": {},
   "outputs": [
    {
     "data": {
      "text/plain": [
       "<gurobi.Var *Awaiting Model Update*>"
      ]
     },
     "execution_count": 7,
     "metadata": {},
     "output_type": "execute_result"
    }
   ],
   "source": [
    "P = OPF.addVars(g, lb = Pmin, ub = Pmax, name = 'Gen')\n",
    "P12 = OPF.addVars(l, lb = -P12_max, ub = P12_max, name = 'line')\n",
    "Delta = OPF.addVars(b, lb = -6, ub = 6, name = 'PhaseAngle')\n",
    "P12[0]"
   ]
  },
  {
   "cell_type": "code",
   "execution_count": 8,
   "metadata": {},
   "outputs": [],
   "source": [
    "Genline = OPF.addConstr(P[0] == P12[0], name ='GenLine')\n",
    "lineFLow = OPF.addConstr(P[1] +P12[0] == L2/Sbase, name = 'lineFlow')\n",
    "BusAngle = OPF.addConstr(P12[0] == (Delta[0]-Delta[1])/X12, name = 'BusAngle')\n",
    "DeltaConstr = OPF.addConstr(Delta[0] == 0, name = 'DeltaConstr')"
   ]
  },
  {
   "cell_type": "code",
   "execution_count": 9,
   "metadata": {},
   "outputs": [],
   "source": [
    "OF = quicksum(GenAt[i]['c']+GenAt[i]['b']*P[i]+GenAt[i]['a']*P[i]*P[i] for i in Gen)"
   ]
  },
  {
   "cell_type": "code",
   "execution_count": 10,
   "metadata": {},
   "outputs": [
    {
     "name": "stdout",
     "output_type": "stream",
     "text": [
      "Parameter Method unchanged\n",
      "   Value: -1  Min: -1  Max: 5  Default: -1\n",
      "Parameter OutputFlag unchanged\n",
      "   Value: 1  Min: 0  Max: 1  Default: 1\n",
      "Optimize a model with 4 rows, 5 columns and 8 nonzeros\n",
      "Model has 2 quadratic objective terms\n",
      "Coefficient statistics:\n",
      "  Matrix range     [1e+00, 5e+00]\n",
      "  Objective range  [2e+01, 2e+01]\n",
      "  QObjective range [6e+00, 8e+00]\n",
      "  Bounds range     [3e-01, 6e+00]\n",
      "  RHS range        [4e+00, 4e+00]\n",
      "Presolve removed 3 rows and 3 columns\n",
      "Presolve time: 0.01s\n",
      "Presolved: 1 rows, 2 columns, 2 nonzeros\n",
      "Presolved model has 2 quadratic objective terms\n",
      "Ordering time: 0.00s\n",
      "\n",
      "Barrier statistics:\n",
      " AA' NZ     : 0.000e+00\n",
      " Factor NZ  : 1.000e+00\n",
      " Factor Ops : 1.000e+00 (less than 1 second per iteration)\n",
      " Threads    : 1\n",
      "\n",
      "                  Objective                Residual\n",
      "Iter       Primal          Dual         Primal    Dual     Compl     Time\n",
      "   0   4.57755765e+05 -4.58065460e+05  2.00e+03 5.06e+02  1.00e+06     0s\n",
      "   1   3.23963236e+02 -1.22489368e+04  2.08e+00 5.26e-01  4.17e+03     0s\n",
      "   2   3.07063497e+02 -5.19836938e+02  1.67e-03 4.22e-04  2.07e+02     0s\n",
      "   3   3.07039209e+02  3.05023015e+02  1.22e-06 3.08e-07  5.04e-01     0s\n",
      "   4   3.06158605e+02  3.06089360e+02  1.22e-12 3.06e-13  1.73e-02     0s\n",
      "   5   3.06107551e+02  3.06107481e+02  0.00e+00 1.11e-15  1.74e-05     0s\n",
      "   6   3.06107500e+02  3.06107500e+02  0.00e+00 0.00e+00  1.74e-08     0s\n",
      "   7   3.06107500e+02  3.06107500e+02  0.00e+00 0.00e+00  1.74e-11     0s\n",
      "\n",
      "Barrier solved model in 7 iterations and 0.03 seconds\n",
      "Optimal objective 3.06107500e+02\n",
      "\n"
     ]
    }
   ],
   "source": [
    "OPF.setObjective(OF, GRB.MINIMIZE)\n",
    "OPF.Params.Method=-1\n",
    "OPF.setParam( 'OutputFlag', True )\n",
    "OPF.optimize()\n",
    "\n",
    "\n",
    "\n",
    "status = OPF.status\n",
    "if status == GRB.Status.INF_OR_UNBD or status == GRB.Status.INFEASIBLE \\\n",
    "or status == GRB.Status.UNBOUNDED:\n",
    "    OPF.computeIIS()\n",
    "    OPF.write(\"model.ilp\")"
   ]
  },
  {
   "cell_type": "code",
   "execution_count": 11,
   "metadata": {},
   "outputs": [
    {
     "name": "stdout",
     "output_type": "stream",
     "text": [
      "\n",
      "Statistics for model 2 bus OPF :\n",
      "  Linear constraint matrix    : 4 Constrs, 5 Vars, 8 NZs\n",
      "  Matrix coefficient range    : [ 1, 5 ]\n",
      "  Objective coefficient range : [ 18.07, 20 ]\n",
      "  Variable bound range        : [ 0.28, 6 ]\n",
      "  RHS coefficient range       : [ 4, 4 ]\n"
     ]
    }
   ],
   "source": [
    "OPF.printStats()"
   ]
  },
  {
   "cell_type": "code",
   "execution_count": 12,
   "metadata": {},
   "outputs": [
    {
     "name": "stdout",
     "output_type": "stream",
     "text": [
      "[0.28, 0.9]\n",
      "[2.06, 2.84]\n"
     ]
    }
   ],
   "source": [
    "print(Pmin)\n",
    "print(Pmax)"
   ]
  },
  {
   "cell_type": "code",
   "execution_count": 13,
   "metadata": {},
   "outputs": [
    {
     "name": "stdout",
     "output_type": "stream",
     "text": [
      "<gurobi.Var PhaseAngle[1] (value -0.2999999999989068)>\n"
     ]
    }
   ],
   "source": [
    "print(Delta[1])"
   ]
  },
  {
   "cell_type": "code",
   "execution_count": null,
   "metadata": {},
   "outputs": [],
   "source": []
  }
 ],
 "metadata": {
  "kernelspec": {
   "display_name": "Python 3",
   "language": "python",
   "name": "python3"
  },
  "language_info": {
   "codemirror_mode": {
    "name": "ipython",
    "version": 3
   },
   "file_extension": ".py",
   "mimetype": "text/x-python",
   "name": "python",
   "nbconvert_exporter": "python",
   "pygments_lexer": "ipython3",
   "version": "3.6.6"
  },
  "latex_envs": {
   "LaTeX_envs_menu_present": true,
   "autocomplete": true,
   "bibliofile": "biblio.bib",
   "cite_by": "apalike",
   "current_citInitial": 1,
   "eqLabelWithNumbers": true,
   "eqNumInitial": 1,
   "hotkeys": {
    "equation": "Ctrl-E",
    "itemize": "Ctrl-I"
   },
   "labels_anchors": false,
   "latex_user_defs": false,
   "report_style_numbering": false,
   "user_envs_cfg": false
  }
 },
 "nbformat": 4,
 "nbformat_minor": 2
}
