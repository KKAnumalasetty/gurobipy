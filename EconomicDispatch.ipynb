{
 "cells": [
  {
   "cell_type": "code",
   "execution_count": 1,
   "metadata": {},
   "outputs": [
    {
     "name": "stdout",
     "output_type": "stream",
     "text": [
      "Parameter Method unchanged\n",
      "   Value: -1  Min: -1  Max: 5  Default: -1\n",
      "Total Cost: € 413063.58\n",
      "Cost of Next MW: € 1218.96\n",
      "+-------------+------------+------------+------------+--------------+\n",
      "|  Generator  | Lower (MW) | Value (MW) | Upper (MW) | Marginal (€) |\n",
      "+-------------+------------+------------+------------+--------------+\n",
      "| Power[Gen1] |    28.0    |  199.827   |   206.0    |     -0.0     |\n",
      "| Power[Gen2] |    90.0    |  148.258   |   284.0    |     0.0      |\n",
      "| Power[Gen3] |    68.0    |  148.569   |   189.0    |     -0.0     |\n",
      "| Power[Gen4] |    76.0    |  150.345   |   266.0    |     0.0      |\n",
      "| Power[Gen5] |    19.0    |    53.0    |    53.0    |   -781.503   |\n",
      "+-------------+------------+------------+------------+--------------+\n"
     ]
    }
   ],
   "source": [
    "from gurobipy import *\n",
    "from prettytable import PrettyTable \n",
    "method =1\n",
    "EC = Model('Economic Dispatch')\n",
    "Gen = ['Gen1','Gen2', 'Gen3', 'Gen4', 'Gen5']\n",
    "GenAt = {Gen[0]:{'a':3 ,'b':20 ,'c':100 , 'Pmin':28 ,'Pmax':206 },\n",
    "      Gen[1]:{'a':4.05 ,'b':18.07 ,'c':98.87 , 'Pmin':90 ,'Pmax':284 },\n",
    "      Gen[2]:{'a':4.05 ,'b':15.55 ,'c':104.26 , 'Pmin':68 ,'Pmax':189 },\n",
    "      Gen[3]:{'a':3.99 ,'b':19.21 ,'c':107.21 , 'Pmin':76 ,'Pmax':266 },  \n",
    "      Gen[4]:{'a':3.88 ,'b':26.18 ,'c':95.31 , 'Pmin':19 ,'Pmax':53 }  }\n",
    "P = EC.addVars(Gen,lb = [GenAt[i]['Pmin'] for i in Gen], ub = [GenAt[i]['Pmax'] for i in Gen],name = 'Power')\n",
    "\n",
    "Demand = 700\n",
    "GenTotal = quicksum(P[i] for i in Gen)\n",
    "GenCost = quicksum(GenAt[i]['c']+GenAt[i]['b']*P[i]+GenAt[i]['a']*P[i]*P[i] for i in Gen)\n",
    "EC.setObjective(GenCost, GRB.MINIMIZE)\n",
    "DemandConst = EC.addConstr( GenTotal == Demand, name = 'DemandConst')\n",
    "\n",
    "#Algorithm used to solve continuous models or the root node of a MIP model. \n",
    "#Options are: -1=automatic, 0=primal simplex, 1=dual simplex, 2=barrier, \n",
    "#              3=concurrent, 4=deterministic concurrent, 5=deterministic concurrent simplex.\n",
    "EC.Params.Method=-1\n",
    "EC.setParam( 'OutputFlag', False )\n",
    "EC.optimize()\n",
    "\n",
    "print('Total Cost:', \"€\",round(EC.objVal,2))\n",
    "print('Cost of Next MW:', \"€\",round(DemandConst.getAttr('PI'),2))\n",
    "\n",
    "Results = PrettyTable(['Generator','Lower (MW)','Value (MW)','Upper (MW)', 'Marginal (€)'])\n",
    "for v in EC.getVars():\n",
    "    Results.add_row([v.varName, v.LB,round((v.x),3), v.UB,round(v.getAttr('RC'),3)])\n",
    "print(Results)"
   ]
  },
  {
   "cell_type": "code",
   "execution_count": 2,
   "metadata": {},
   "outputs": [
    {
     "name": "stdout",
     "output_type": "stream",
     "text": [
      "<gurobi.LinExpr: Power[Gen1] + Power[Gen2] + Power[Gen3] + Power[Gen4] + Power[Gen5]>\n"
     ]
    }
   ],
   "source": [
    "method =1\n",
    "EC = Model('Economic Dispatch')\n",
    "Gen = ['Gen1','Gen2', 'Gen3', 'Gen4', 'Gen5']\n",
    "GenAt = {Gen[0]:{'a':3 ,'b':20 ,'c':100 , 'Pmin':28 ,'Pmax':206 },\n",
    "      Gen[1]:{'a':4.05 ,'b':18.07 ,'c':98.87 , 'Pmin':90 ,'Pmax':284 },\n",
    "      Gen[2]:{'a':4.05 ,'b':15.55 ,'c':104.26 , 'Pmin':68 ,'Pmax':189 },\n",
    "      Gen[3]:{'a':3.99 ,'b':19.21 ,'c':107.21 , 'Pmin':76 ,'Pmax':266 },  \n",
    "      Gen[4]:{'a':3.88 ,'b':26.18 ,'c':95.31 , 'Pmin':19 ,'Pmax':53 }  }\n",
    "P = EC.addVars(Gen,lb = [GenAt[i]['Pmin'] for i in Gen], ub = [GenAt[i]['Pmax'] for i in Gen],name = 'Power')\n",
    "\n",
    "Demand = 700\n",
    "GenTotal = quicksum(P[i] for i in Gen)\n",
    "print(GenTotal)"
   ]
  },
  {
   "cell_type": "code",
   "execution_count": 51,
   "metadata": {},
   "outputs": [
    {
     "name": "stdout",
     "output_type": "stream",
     "text": [
      "Parameter Method unchanged\n",
      "   Value: -1  Min: -1  Max: 5  Default: -1\n"
     ]
    }
   ],
   "source": [
    "from gurobipy import *\n",
    "from prettytable import PrettyTable\n",
    "from numpy import array, concatenate,append\n",
    "\n",
    "EC = Model('Economic Dispatch')\n",
    "Gen = ['Gen1','Gen2', 'Gen3', 'Gen4', 'Gen5']\n",
    "GenAt = {Gen[0]:{'a':3 ,'b':20 ,'c':100 , 'Pmin':28 ,'Pmax':206 },\n",
    "      Gen[1]:{'a':4.05 ,'b':18.07 ,'c':98.87 , 'Pmin':90 ,'Pmax':284 },\n",
    "      Gen[2]:{'a':4.05 ,'b':15.55 ,'c':104.26 , 'Pmin':68 ,'Pmax':189 },\n",
    "      Gen[3]:{'a':3.99 ,'b':19.21 ,'c':107.21 , 'Pmin':76 ,'Pmax':266 },  \n",
    "      Gen[4]:{'a':3.88 ,'b':26.18 ,'c':95.31 , 'Pmin':19 ,'Pmax':53 }  }\n",
    "\n",
    "\n",
    "\n",
    "Iter =11\n",
    "Load=[]\n",
    "TotalLoad=[]\n",
    "Objective=[]\n",
    "Var=[]\n",
    "for c in range(Iter):\n",
    "    Demand = quicksum(GenAt[i]['Pmin'] for i in Gen) + \\\n",
    "    ((c)/(Iter-1))*quicksum(GenAt[i]['Pmax'] - GenAt[i]['Pmin'] for i in Gen)\n",
    "    Load.append(Demand)\n",
    "\n",
    "\n",
    "\n",
    "\n",
    "for k in range(Iter):\n",
    "   \n",
    "    P = EC.addVars(Gen,lb = [GenAt[i]['Pmin'] for i in Gen], ub = [GenAt[i]['Pmax'] for i in Gen],name = 'Power')\n",
    "    GenTotal = quicksum(P[i] for i in Gen)\n",
    "    GenCost = quicksum(GenAt[i]['c']+GenAt[i]['b']*P[i]+GenAt[i]['a']*P[i]*P[i] for i in Gen)\n",
    "    EC.setObjective(GenCost, GRB.MINIMIZE)\n",
    "    target = EC.addConstr( GenTotal == Load[k], name = 'DemandConst')\n",
    "   \n",
    "    \n",
    "\n",
    "    EC.Params.Method=-1\n",
    "    EC.setParam( 'OutputFlag', False )\n",
    "    EC.optimize()\n",
    "    TotalLoad.append(Load[k].getValue())\n",
    "    v = EC.getVars()\n",
    "    Obj = EC.objVal\n",
    "    Objective.append(EC.objVal)\n",
    "    \n",
    "\n",
    "    status = EC.status\n",
    "    if status == GRB.Status.INF_OR_UNBD or status == GRB.Status.INFEASIBLE \\\n",
    "    or status == GRB.Status.UNBOUNDED:\n",
    "        EC.computeIIS()\n",
    "        EC.write(\"model.ilp\")"
   ]
  },
  {
   "cell_type": "code",
   "execution_count": 50,
   "metadata": {},
   "outputs": [
    {
     "name": "stdout",
     "output_type": "stream",
     "text": [
      "+--------+-------+-------+-------+-------+-------+-------+-----------------+\n",
      "| Period | Gen 1 | Gen 2 | Gen 3 | Gen 4 | Gen 5 |  Load | Objective Value |\n",
      "+--------+-------+-------+-------+-------+-------+-------+-----------------+\n",
      "|   0    |  28.0 |  90.0 |  68.0 |  76.0 |  19.0 | 281.0 |     84037.85    |\n",
      "|   1    |  99.7 |  90.0 |  68.0 |  76.0 |  19.0 | 352.7 |    105758.02    |\n",
      "|   2    | 171.4 |  90.0 |  68.0 |  76.0 |  19.0 | 424.4 |    147715.94    |\n",
      "|   3    |  28.0 |  90.0 |  93.1 | 266.0 |  19.0 | 496.1 |    203091.65    |\n",
      "|   4    |  28.0 |  90.0 | 164.8 | 266.0 |  19.0 | 567.8 |    268132.17    |\n",
      "|   5    |  28.0 | 284.0 |  68.0 | 240.5 |  19.0 | 639.5 |    342712.41    |\n",
      "|   6    | 206.0 | 284.0 |  68.0 | 134.2 |  19.0 | 711.2 |    426832.36    |\n",
      "|   7    | 206.0 | 284.0 |  68.0 | 205.9 |  19.0 | 782.9 |    522137.81    |\n",
      "|   8    |  62.6 | 284.0 | 189.0 | 266.0 |  53.0 | 854.6 |    631691.67    |\n",
      "|   9    | 134.3 | 284.0 | 189.0 | 266.0 |  53.0 | 926.3 |     760550.5    |\n",
      "|   10   | 206.0 | 284.0 | 189.0 | 266.0 |  53.0 | 998.0 |    911044.09    |\n",
      "+--------+-------+-------+-------+-------+-------+-------+-----------------+\n"
     ]
    }
   ],
   "source": [
    "from numpy import concatenate, around\n",
    "\n",
    "for v in EC.getVars():\n",
    "        Var.append(v.x)\n",
    "Power = array(Var).reshape(Iter,len(Gen))\n",
    "\n",
    "TotalLoad = array(TotalLoad,  ndmin=2)\n",
    "TotalLoad = TotalLoad.T\n",
    "\n",
    "Objective = array(Objective, ndmin =2)\n",
    "Objective = Objective.T\n",
    "\n",
    "Values = concatenate([Power, TotalLoad, Objective], axis = 1)\n",
    "Values =  around(Values, decimals = 2)\n",
    "\n",
    "\n",
    "Results = PrettyTable(['Period','Gen 1','Gen 2','Gen 3', 'Gen 4', 'Gen 5', 'Load', 'Objective Value'])\n",
    "for v in range(0,len(Values)):\n",
    "    Results.add_row([v, Values[v,0], Values[v,1], Values[v,2], Values[v,3],Values[v,4],Values[v,5], Values[v,6]])\n",
    "print(Results)\n"
   ]
  },
  {
   "cell_type": "code",
   "execution_count": null,
   "metadata": {},
   "outputs": [],
   "source": []
  }
 ],
 "metadata": {
  "kernelspec": {
   "display_name": "Python 3",
   "language": "python",
   "name": "python3"
  },
  "language_info": {
   "codemirror_mode": {
    "name": "ipython",
    "version": 3
   },
   "file_extension": ".py",
   "mimetype": "text/x-python",
   "name": "python",
   "nbconvert_exporter": "python",
   "pygments_lexer": "ipython3",
   "version": "3.6.6"
  },
  "latex_envs": {
   "LaTeX_envs_menu_present": true,
   "autocomplete": true,
   "bibliofile": "biblio.bib",
   "cite_by": "apalike",
   "current_citInitial": 1,
   "eqLabelWithNumbers": true,
   "eqNumInitial": 1,
   "hotkeys": {
    "equation": "Ctrl-E",
    "itemize": "Ctrl-I"
   },
   "labels_anchors": false,
   "latex_user_defs": false,
   "report_style_numbering": false,
   "user_envs_cfg": false
  }
 },
 "nbformat": 4,
 "nbformat_minor": 2
}
