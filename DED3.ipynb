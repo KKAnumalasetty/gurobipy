{
 "cells": [
  {
   "cell_type": "code",
   "execution_count": 8,
   "metadata": {},
   "outputs": [],
   "source": [
    "from gurobipy import *\n",
    "from prettytable import PrettyTable\n",
    "import numpy as np"
   ]
  },
  {
   "cell_type": "code",
   "execution_count": 9,
   "metadata": {},
   "outputs": [],
   "source": [
    "EC = Model('Dynamic Economic Dispatch')"
   ]
  },
  {
   "cell_type": "code",
   "execution_count": 41,
   "metadata": {},
   "outputs": [],
   "source": [
    "#Sets\n",
    "G = 4\n",
    "Gen = range(G)\n",
    "T =  3# Demand per Period\n",
    "Period = range(T)\n",
    "\n",
    "GenAt = {Gen[0]:{'a':0.12 ,'b':14.80 ,'c':89, 'd':1.2 ,'e':-5 ,'f':3 , 'Pmin':28 ,'Pmax':200,'RU0':40,'RD0':40 },\n",
    "      Gen[1]:{'a':0.17 ,'b':16.57 ,'c':83 , 'd':2.3 ,'e':-4.24 ,'f':6.09 , 'Pmin':20 ,'Pmax':290,'RU0':30,'RD0':30  },\n",
    "      Gen[2]:{'a':0.15 ,'b':15.55 ,'c':100 , 'd':1.1 ,'e':-2.15 ,'f':5.69 ,'Pmin':30 ,'Pmax':190,'RU0':30,'RD0':30  },\n",
    "      Gen[3]:{'a':0.19 ,'b':16.21 ,'c':70 , 'd':1.1 ,'e':-3.99 ,'f':6.2 ,'Pmin':20 ,'Pmax':260, 'RU0':50,'RD0':50 }  }"
   ]
  },
  {
   "cell_type": "code",
   "execution_count": 42,
   "metadata": {},
   "outputs": [],
   "source": [
    "Demand = [300, 300, 300]"
   ]
  },
  {
   "cell_type": "code",
   "execution_count": 43,
   "metadata": {},
   "outputs": [],
   "source": [
    "Pmin = [GenAt[i]['Pmin'] for i in Gen]\n",
    "Pmax = [GenAt[i]['Pmax'] for i in Gen]\n",
    "l = [(a,b) for a in Gen for b in Period]"
   ]
  },
  {
   "cell_type": "code",
   "execution_count": 44,
   "metadata": {},
   "outputs": [],
   "source": [
    "P = EC.addVars(l, lb = Pmin*T, ub = Pmax*T)\n",
    "RU = EC.addConstrs((P[(i, j)] - P[(i, j-1)]  <= GenAt[i]['RU0']) for i in Gen for j in range(1,T))\n",
    "RD = EC.addConstrs(P[(i, j-1)] - P[(i, j)]  <= GenAt[i]['RD0'] for i in Gen for j in range(1,T))\n",
    "Load = EC.addConstrs((P.sum('*',j) == Demand[j] for j in Period), name = 'DemandConst')\n",
    "GenCost =quicksum(GenAt[i]['c']+GenAt[i]['b']*P[i,j]+GenAt[i]['a']*P[i,j]*P[i,j] for i in Gen for j in Period) \n",
    "EC.setObjective(GenCost, GRB.MINIMIZE)"
   ]
  },
  {
   "cell_type": "code",
   "execution_count": 45,
   "metadata": {},
   "outputs": [
    {
     "name": "stdout",
     "output_type": "stream",
     "text": [
      "Parameter Method unchanged\n",
      "   Value: -1  Min: -1  Max: 5  Default: -1\n",
      "Parameter OutputFlag unchanged\n",
      "   Value: 1  Min: 0  Max: 1  Default: 1\n",
      "Optimize a model with 25 rows, 36 columns and 56 nonzeros\n",
      "Model has 12 quadratic objective terms\n",
      "Coefficient statistics:\n",
      "  Matrix range     [1e+00, 1e+00]\n",
      "  Objective range  [1e+01, 2e+01]\n",
      "  QObjective range [2e-01, 4e-01]\n",
      "  Bounds range     [1e+00, 3e+02]\n",
      "  RHS range        [3e+01, 3e+02]\n",
      "Presolve removed 14 rows and 24 columns\n",
      "Presolve time: 0.01s\n",
      "Presolved: 11 rows, 20 columns, 36 nonzeros\n",
      "Presolved model has 12 quadratic objective terms\n",
      "Ordering time: 0.00s\n",
      "\n",
      "Barrier statistics:\n",
      " AA' NZ     : 2.000e+01\n",
      " Factor NZ  : 6.600e+01\n",
      " Factor Ops : 5.060e+02 (less than 1 second per iteration)\n",
      " Threads    : 1\n",
      "\n",
      "                  Objective                Residual\n",
      "Iter       Primal          Dual         Primal    Dual     Compl     Time\n",
      "   0   3.57618203e+06 -3.95898091e+06  2.50e+03 8.54e+02  8.35e+05     0s\n",
      "   1   9.53252736e+04 -8.68943071e+05  1.71e+02 5.84e+01  7.52e+04     0s\n",
      "   2   2.77902542e+04 -2.81285573e+05  1.71e-04 5.84e-05  7.73e+03     0s\n",
      "   3   2.76625638e+04 -7.52809401e+03  1.88e-05 6.42e-06  8.80e+02     0s\n",
      "   4   2.57755154e+04  1.84928084e+04  1.88e-11 6.41e-12  1.82e+02     0s\n",
      "   5   2.54580321e+04  2.50496235e+04  8.88e-16 1.78e-14  1.02e+01     0s\n",
      "   6   2.54492648e+04  2.54448807e+04  1.33e-15 7.11e-15  1.10e-01     0s\n",
      "   7   2.54492616e+04  2.54492572e+04  1.42e-14 1.42e-14  1.10e-04     0s\n",
      "   8   2.54492616e+04  2.54492616e+04  1.42e-14 5.33e-15  1.10e-07     0s\n",
      "   9   2.54492616e+04  2.54492616e+04  1.42e-14 1.42e-14  1.10e-10     0s\n",
      "\n",
      "Barrier solved model in 9 iterations and 0.03 seconds\n",
      "Optimal objective 2.54492616e+04\n",
      "\n"
     ]
    }
   ],
   "source": [
    "EC.setObjective(GenCost, GRB.MINIMIZE)\n",
    "EC.Params.Method=-1\n",
    "EC.setParam( 'OutputFlag', True )\n",
    "EC.optimize()\n",
    "\n",
    "\n",
    "\n",
    "status = EC.status\n",
    "if status == GRB.Status.INF_OR_UNBD or status == GRB.Status.INFEASIBLE \\\n",
    "or status == GRB.Status.UNBOUNDED:\n",
    "    EC.computeIIS()\n",
    "    EC.write(\"model.ilp\")"
   ]
  },
  {
   "cell_type": "code",
   "execution_count": 46,
   "metadata": {},
   "outputs": [
    {
     "data": {
      "text/plain": [
       "array([[99.25745017, 64.85820012, 76.90596013, 58.97838958],\n",
       "       [99.25745017, 64.85820012, 76.90596013, 58.97838958],\n",
       "       [99.25745017, 64.85820012, 76.90596013, 58.97838958]])"
      ]
     },
     "execution_count": 46,
     "metadata": {},
     "output_type": "execute_result"
    }
   ],
   "source": [
    "PVar = np.asarray([[P[i,j].x for i in Gen] for j in Period])\n",
    "PVar"
   ]
  },
  {
   "cell_type": "code",
   "execution_count": null,
   "metadata": {},
   "outputs": [],
   "source": []
  }
 ],
 "metadata": {
  "kernelspec": {
   "display_name": "Python 3",
   "language": "python",
   "name": "python3"
  },
  "language_info": {
   "codemirror_mode": {
    "name": "ipython",
    "version": 3
   },
   "file_extension": ".py",
   "mimetype": "text/x-python",
   "name": "python",
   "nbconvert_exporter": "python",
   "pygments_lexer": "ipython3",
   "version": "3.6.6"
  }
 },
 "nbformat": 4,
 "nbformat_minor": 2
}
