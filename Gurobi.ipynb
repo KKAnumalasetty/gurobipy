{
 "cells": [
  {
   "cell_type": "code",
   "execution_count": null,
   "metadata": {},
   "outputs": [],
   "source": [
    "#!/usr/bin/python\n",
    "\n",
    "# Copyright 2018, Gurobi Optimization, LLC\n",
    "\n",
    "# This example formulates and solves the following simple MIP model:\n",
    "#  maximize\n",
    "#        x +   y + 2 z\n",
    "#  subject to\n",
    "#        x + 2 y + 3 z <= 4\n",
    "#        x +   y       >= 1\n",
    "#  x, y, z binary\n",
    "\n",
    "from gurobipy import *\n",
    "\n",
    "try:\n",
    "\n",
    "    # Create a new model\n",
    "    m = Model(\"mip1\")\n",
    "\n",
    "    # Create variables\n",
    "    x = m.addVar(vtype=GRB.BINARY, name=\"x\")\n",
    "    y = m.addVar(vtype=GRB.BINARY, name=\"y\")\n",
    "    z = m.addVar(vtype=GRB.BINARY, name=\"z\")\n",
    "\n",
    "    # Set objective\n",
    "    m.setObjective(x + y + 2 * z, GRB.MAXIMIZE)\n",
    "\n",
    "    # Add constraint: x + 2 y + 3 z <= 4\n",
    "    m.addConstr(x + 2 * y + 3 * z <= 4, \"c0\")\n",
    "\n",
    "    # Add constraint: x + y >= 1\n",
    "    m.addConstr(x + y >= 1, \"c1\")\n",
    "\n",
    "    m.optimize()\n",
    "\n",
    "    for v in m.getVars():\n",
    "        print('%s %g' % (v.varName, v.x))\n",
    "\n",
    "    print('Obj: %g' % m.objVal)\n",
    "\n",
    "except GurobiError as e:\n",
    "    print('Error code ' + str(e.errno) + \": \" + str(e))\n",
    "\n",
    "except AttributeError:\n",
    "    print('Encountered an attribute error')"
   ]
  },
  {
   "cell_type": "code",
   "execution_count": null,
   "metadata": {},
   "outputs": [],
   "source": [
    "#!/usr/bin/python\n",
    "\n",
    "# Copyright 2018, Gurobi Optimization, LLC\n",
    "\n",
    "# This example formulates and solves the following simple MIP model:\n",
    "#  maximize\n",
    "#        x +   y + 2 z\n",
    "#  subject to\n",
    "#        x + 2 y + 3 z <= 4\n",
    "#        x +   y       >= 1\n",
    "#  x, y, z binary\n",
    "\n",
    "from gurobipy import *\n",
    "\n",
    "try:\n",
    "\n",
    "    # Create a new model\n",
    "    m = Model(\"Economic Dispatch\")\n",
    "\n",
    "    # Create variables\n",
    "    x = m.addVar(vtype=GRB.BINARY, name=\"x\")\n",
    "    y = m.addVar(vtype=GRB.BINARY, name=\"y\")\n",
    "    z = m.addVar(vtype=GRB.BINARY, name=\"z\")\n",
    "\n",
    "    # Set objective\n",
    "    m.setObjective(x + y + 2 * z, GRB.MAXIMIZE)\n",
    "\n",
    "    # Add constraint: x + 2 y + 3 z <= 4\n",
    "    m.addConstr(x + 2 * y + 3 * z <= 4, \"c0\")\n",
    "\n",
    "    # Add constraint: x + y >= 1\n",
    "    m.addConstr(x + y >= 1, \"c1\")\n",
    "\n",
    "    m.optimize()\n",
    "\n",
    "    for v in m.getVars():\n",
    "        print('%s %g' % (v.varName, v.x))\n",
    "\n",
    "    print('Obj: %g' % m.objVal)\n",
    "\n",
    "except GurobiError as e:\n",
    "    print('Error code ' + str(e.errno) + \": \" + str(e))\n",
    "\n",
    "except AttributeError:\n",
    "    print('Encountered an attribute error')"
   ]
  },
  {
   "cell_type": "code",
   "execution_count": null,
   "metadata": {},
   "outputs": [],
   "source": [
    "#!/usr/bin/python\n",
    "\n",
    "# Copyright 2018, Gurobi Optimization, LLC\n",
    "\n",
    "# Solve a multi-commodity flow problem.  Two products ('Pencils' and 'Pens')\n",
    "# are produced in 2 cities ('Detroit' and 'Denver') and must be sent to\n",
    "# warehouses in 3 cities ('Boston', 'New York', and 'Seattle') to\n",
    "# satisfy demand ('inflow[h,i]').\n",
    "#\n",
    "# Flows on the transportation network must respect arc capacity constraints\n",
    "# ('capacity[i,j]'). The objective is to minimize the sum of the arc\n",
    "# transportation costs ('cost[i,j]').\n",
    "\n",
    "from gurobipy import *\n",
    "\n",
    "# Model data\n",
    "\n",
    "commodities = ['Pencils', 'Pens']\n",
    "nodes = ['Detroit', 'Denver', 'Boston', 'New York', 'Seattle']\n",
    "\n",
    "arcs, capacity = multidict({\n",
    "  ('Detroit', 'Boston'):   100,\n",
    "  ('Detroit', 'New York'):  80,\n",
    "  ('Detroit', 'Seattle'):  120,\n",
    "  ('Denver',  'Boston'):   120,\n",
    "  ('Denver',  'New York'): 120,\n",
    "  ('Denver',  'Seattle'):  120 })\n",
    "\n",
    "cost = {\n",
    "  ('Pencils', 'Detroit', 'Boston'):   10,\n",
    "  ('Pencils', 'Detroit', 'New York'): 20,\n",
    "  ('Pencils', 'Detroit', 'Seattle'):  60,\n",
    "  ('Pencils', 'Denver',  'Boston'):   40,\n",
    "  ('Pencils', 'Denver',  'New York'): 40,\n",
    "  ('Pencils', 'Denver',  'Seattle'):  30,\n",
    "  ('Pens',    'Detroit', 'Boston'):   20,\n",
    "  ('Pens',    'Detroit', 'New York'): 20,\n",
    "  ('Pens',    'Detroit', 'Seattle'):  80,\n",
    "  ('Pens',    'Denver',  'Boston'):   60,\n",
    "  ('Pens',    'Denver',  'New York'): 70,\n",
    "  ('Pens',    'Denver',  'Seattle'):  30 }\n",
    "\n",
    "inflow = {\n",
    "  ('Pencils', 'Detroit'):   50,\n",
    "  ('Pencils', 'Denver'):    60,\n",
    "  ('Pencils', 'Boston'):   -50,\n",
    "  ('Pencils', 'New York'): -50,\n",
    "  ('Pencils', 'Seattle'):  -10,\n",
    "  ('Pens',    'Detroit'):   60,\n",
    "  ('Pens',    'Denver'):    40,\n",
    "  ('Pens',    'Boston'):   -40,\n",
    "  ('Pens',    'New York'): -30,\n",
    "  ('Pens',    'Seattle'):  -30 }\n",
    "\n",
    "# Create optimization model\n",
    "m = Model('netflow')\n",
    "\n",
    "# Create variables\n",
    "flow = m.addVars(commodities, arcs, obj=cost, name=\"flow\")\n",
    "\n",
    "# Arc capacity constraints\n",
    "m.addConstrs(\n",
    "    (flow.sum('*',i,j) <= capacity[i,j] for i,j in arcs), \"cap\")\n",
    "\n",
    "# Equivalent version using Python looping\n",
    "# for i,j in arcs:\n",
    "#   m.addConstr(sum(flow[h,i,j] for h in commodities) <= capacity[i,j],\n",
    "#               \"cap[%s,%s]\" % (i, j))\n",
    "\n",
    "\n",
    "# Flow conservation constraints\n",
    "m.addConstrs(\n",
    "    (flow.sum(h,'*',j) + inflow[h,j] == flow.sum(h,j,'*')\n",
    "    for h in commodities for j in nodes), \"node\")\n",
    "# Alternate version:\n",
    "# m.addConstrs(\n",
    "#   (quicksum(flow[h,i,j] for i,j in arcs.select('*',j)) + inflow[h,j] ==\n",
    "#     quicksum(flow[h,j,k] for j,k in arcs.select(j,'*'))\n",
    "#     for h in commodities for j in nodes), \"node\")\n",
    "\n",
    "# Compute optimal solution\n",
    "m.optimize()\n",
    "\n",
    "# Print solution\n",
    "if m.status == GRB.Status.OPTIMAL:\n",
    "    solution = m.getAttr('x', flow)\n",
    "    for h in commodities:\n",
    "        print('\\nOptimal flows for %s:' % h)\n",
    "        for i,j in arcs:\n",
    "            if solution[h,i,j] > 0:\n",
    "                print('%s -> %s: %g' % (i, j, solution[h,i,j]))"
   ]
  },
  {
   "cell_type": "code",
   "execution_count": null,
   "metadata": {},
   "outputs": [],
   "source": [
    "Generators = ['Gen1','Gen2','Gen3']\n",
    "Bus = ['Bus1', 'Bus2', 'Bus3']\n",
    "\n",
    "lines, Susceptance = multidict({\n",
    "  ('Bus1', 'Bus1'): 18,\n",
    "  ('Bus1', 'Bus2'): -10,\n",
    "  ('Bus1', 'Bus3'): -8,\n",
    "  ('Bus2',  'Bus1'): -10,\n",
    "  ('Bus2',  'Bus2'): 15,\n",
    "  ('Bus2',  'Bus3'): -5,\n",
    "  ('Bus3',  'Bus1'): -8,\n",
    "  ('Bus3',  'Bus2'): -5,\n",
    "  ('Bus3',  'Bus3'):  13,})"
   ]
  },
  {
   "cell_type": "code",
   "execution_count": null,
   "metadata": {},
   "outputs": [],
   "source": [
    "B= [100*Susceptance[(i,j)] for i,j in lines]"
   ]
  },
  {
   "cell_type": "code",
   "execution_count": null,
   "metadata": {},
   "outputs": [],
   "source": [
    "Gen = {'Gen1':{'a':0.00562 ,'b': 7.92,'c': 561, 'Pmin': 150,'Pmax': 600},\n",
    "      'Gen2':{'a':0.00194 ,'b': 7.85,'c': 310, 'Pmin': 100,'Pmax': 400},\n",
    "      'Gen3':{'a':0.00482 ,'b': 7.97,'c': 78, 'Pmin': 50,'Pmax': 200}}\n",
    "Gen"
   ]
  },
  {
   "cell_type": "code",
   "execution_count": null,
   "metadata": {},
   "outputs": [],
   "source": [
    "Gen['Gen1']['a']"
   ]
  },
  {
   "cell_type": "code",
   "execution_count": 2,
   "metadata": {},
   "outputs": [
    {
     "data": {
      "text/plain": [
       "[568.92562, 317.85194, 85.97482]"
      ]
     },
     "execution_count": 2,
     "metadata": {},
     "output_type": "execute_result"
    }
   ],
   "source": [
    "Generators =['Gen1', 'Gen2', 'Gen3']\n",
    "GenAtri = {'Gen1':{'a':0.00562 ,'b': 7.92,'c': 561, 'Pmin': 150,'Pmax': 600},\n",
    "           'Gen2':{'a':0.00194 ,'b': 7.85,'c': 310, 'Pmin': 100,'Pmax': 400},\n",
    "           'Gen3':{'a':0.00482 ,'b': 7.97,'c': 78, 'Pmin': 50,'Pmax': 200}}\n",
    "Gen\n",
    "\n",
    "P=1\n",
    "\n",
    "GenCost = [Gen[i]['c']+Gen[i]['b']*P+Gen[i]['a']*P**2 for i in Gen]\n",
    "GenCost"
   ]
  },
  {
   "cell_type": "code",
   "execution_count": 6,
   "metadata": {},
   "outputs": [
    {
     "data": {
      "text/plain": [
       "'Gen2'"
      ]
     },
     "execution_count": 6,
     "metadata": {},
     "output_type": "execute_result"
    }
   ],
   "source": [
    "P=1\n",
    "Generators = ['Gen1','Gen2', 'Gen3']\n",
    "\n",
    "\n",
    "#Set Objective\n",
    "GenCost=[Gen[i]['c']+Gen[i]['b']*P+Gen[i]['a']*P**2 for i in Gen]\n",
    "Pi[1]           "
   ]
  },
  {
   "cell_type": "code",
   "execution_count": 7,
   "metadata": {},
   "outputs": [
    {
     "ename": "SyntaxError",
     "evalue": "invalid syntax (<ipython-input-7-dc66bcb6274a>, line 3)",
     "output_type": "error",
     "traceback": [
      "\u001b[1;36m  File \u001b[1;32m\"<ipython-input-7-dc66bcb6274a>\"\u001b[1;36m, line \u001b[1;32m3\u001b[0m\n\u001b[1;33m    Obj = [Gen[i]['c']+Gen[i]['b']*P[i]+Gen[i]['a']P[i]**2\u001b[0m\n\u001b[1;37m                                                   ^\u001b[0m\n\u001b[1;31mSyntaxError\u001b[0m\u001b[1;31m:\u001b[0m invalid syntax\n"
     ]
    }
   ],
   "source": [
    "\n",
    "\n",
    "Obj = [Gen[i]['c']+Gen[i]['b']*P[i]+Gen[i]['a']P[i]**2 \n",
    "           for i in Gen]\n",
    "\n",
    "Demand = 850\n",
    "\n",
    "sum(P[i])=Demand\n"
   ]
  },
  {
   "cell_type": "code",
   "execution_count": 79,
   "metadata": {},
   "outputs": [
    {
     "name": "stdout",
     "output_type": "stream",
     "text": [
      "Optimize a model with 7 rows, 3 columns and 9 nonzeros\n",
      "Model has 3 quadratic objective terms\n",
      "Coefficient statistics:\n",
      "  Matrix range     [1e+00, 1e+00]\n",
      "  Objective range  [8e+00, 8e+00]\n",
      "  QObjective range [4e-03, 1e-02]\n",
      "  Bounds range     [0e+00, 0e+00]\n",
      "  RHS range        [5e+01, 9e+02]\n",
      "Presolve removed 6 rows and 0 columns\n",
      "Presolve time: 0.01s\n",
      "Presolved: 1 rows, 3 columns, 3 nonzeros\n",
      "Presolved model has 3 quadratic objective terms\n",
      "Ordering time: 0.00s\n",
      "\n",
      "Barrier statistics:\n",
      " AA' NZ     : 0.000e+00\n",
      " Factor NZ  : 1.000e+00\n",
      " Factor Ops : 1.000e+00 (less than 1 second per iteration)\n",
      " Threads    : 1\n",
      "\n",
      "                  Objective                Residual\n",
      "Iter       Primal          Dual         Primal    Dual     Compl     Time\n",
      "   0   1.49214198e+06 -1.29294756e+06  2.00e+03 9.93e+02  1.02e+06     0s\n",
      "   1   8.80212939e+03 -8.20226420e+04  2.00e-03 9.93e-04  1.51e+04     0s\n",
      "   2   8.78912307e+03  8.09572566e+03  7.19e-06 3.57e-06  1.16e+02     0s\n",
      "   3   8.54323377e+03  8.44387586e+03  7.18e-12 3.58e-12  1.66e+01     0s\n",
      "   4   8.51749674e+03  8.51634122e+03  3.55e-14 1.42e-14  1.93e-01     0s\n",
      "   5   8.51745005e+03  8.51744889e+03  0.00e+00 0.00e+00  1.93e-04     0s\n",
      "   6   8.51745000e+03  8.51745000e+03  0.00e+00 0.00e+00  1.93e-07     0s\n",
      "   7   8.51745000e+03  8.51745000e+03  0.00e+00 1.78e-14  1.93e-10     0s\n",
      "\n",
      "Barrier solved model in 7 iterations and 0.02 seconds\n",
      "Optimal objective 8.51745000e+03\n",
      "\n",
      "Power[Gen1] 250.0000000000412\n",
      "Power[Gen2] 399.9999999999735\n",
      "Power[Gen3] 199.99999999998528\n",
      "Obj: 8517.450000000048\n"
     ]
    },
    {
     "ename": "AttributeError",
     "evalue": "'int' object has no attribute 'getAttr'",
     "output_type": "error",
     "traceback": [
      "\u001b[1;31m---------------------------------------------------------------------------\u001b[0m",
      "\u001b[1;31mAttributeError\u001b[0m                            Traceback (most recent call last)",
      "\u001b[1;32m<ipython-input-79-981d0e85476e>\u001b[0m in \u001b[0;36m<module>\u001b[1;34m()\u001b[0m\n\u001b[0;32m     21\u001b[0m \u001b[1;33m\u001b[0m\u001b[0m\n\u001b[0;32m     22\u001b[0m \u001b[0mprint\u001b[0m\u001b[1;33m(\u001b[0m\u001b[1;34m'Obj:'\u001b[0m\u001b[1;33m,\u001b[0m \u001b[0mEC\u001b[0m\u001b[1;33m.\u001b[0m\u001b[0mobjVal\u001b[0m\u001b[1;33m)\u001b[0m\u001b[1;33m\u001b[0m\u001b[0m\n\u001b[1;32m---> 23\u001b[1;33m \u001b[0mprint\u001b[0m\u001b[1;33m(\u001b[0m\u001b[0mDemand\u001b[0m\u001b[1;33m.\u001b[0m\u001b[0mgetAttr\u001b[0m\u001b[1;33m(\u001b[0m\u001b[0mGRB\u001b[0m\u001b[1;33m.\u001b[0m\u001b[0mAttr\u001b[0m\u001b[1;33m.\u001b[0m\u001b[0mx\u001b[0m\u001b[1;33m)\u001b[0m\u001b[1;33m)\u001b[0m\u001b[1;33m\u001b[0m\u001b[0m\n\u001b[0m",
      "\u001b[1;31mAttributeError\u001b[0m: 'int' object has no attribute 'getAttr'"
     ]
    }
   ],
   "source": [
    "from gurobipy import *\n",
    "EC = Model('Economic Dispatch')\n",
    "Gen = ['Gen1','Gen2', 'Gen3']\n",
    "GenAt = {Gen[0]:{'a':0.00562 ,'b': 7.92,'c': 561, 'Pmin': 150,'Pmax': 600},\n",
    "      Gen[1]:{'a':0.00194 ,'b': 7.85,'c': 310, 'Pmin': 100,'Pmax': 400},\n",
    "      Gen[2]:{'a':0.00482 ,'b': 7.97,'c': 78, 'Pmin': 50,'Pmax': 200}}\n",
    "P = EC.addVars(Gen, name = 'Power')\n",
    "Demand = 850\n",
    "GenTotal = quicksum(P[i] for i in Gen)\n",
    "GenCost = quicksum(GenAt[i]['c']+GenAt[i]['b']*P[i]+GenAt[i]['a']*P[i]*P[i] for i in Gen)\n",
    "\n",
    "EC.setObjective(GenCost, GRB.MINIMIZE)\n",
    "\n",
    "EC.addConstr( GenTotal == Demand, name = 'DemandConst')\n",
    "EC.addConstrs((P[i] <= GenAt[i]['Pmax'] for i in Gen), name='Limit')\n",
    "EC.addConstrs((P[i] >= GenAt[i]['Pmin'] for i in Gen), name='Limit2')\n",
    "EC.optimize()\n",
    "\n",
    "for v in EC.getVars():\n",
    "    print(v.varName, v.x)\n",
    "\n",
    "print('Obj:', EC.objVal)\n",
    "print(Demand.getAttr(GRB.Attr.x))\n"
   ]
  },
  {
   "cell_type": "code",
   "execution_count": 15,
   "metadata": {},
   "outputs": [
    {
     "data": {
      "text/plain": [
       "{'a': 0.00562, 'b': 7.92, 'c': 561, 'Pmin': 150, 'Pmax': 600}"
      ]
     },
     "execution_count": 15,
     "metadata": {},
     "output_type": "execute_result"
    }
   ],
   "source": []
  },
  {
   "cell_type": "code",
   "execution_count": null,
   "metadata": {},
   "outputs": [],
   "source": []
  }
 ],
 "metadata": {
  "kernelspec": {
   "display_name": "Python 3",
   "language": "python",
   "name": "python3"
  },
  "language_info": {
   "codemirror_mode": {
    "name": "ipython",
    "version": 3
   },
   "file_extension": ".py",
   "mimetype": "text/x-python",
   "name": "python",
   "nbconvert_exporter": "python",
   "pygments_lexer": "ipython3",
   "version": "3.6.6"
  },
  "latex_envs": {
   "LaTeX_envs_menu_present": true,
   "autocomplete": true,
   "bibliofile": "biblio.bib",
   "cite_by": "apalike",
   "current_citInitial": 1,
   "eqLabelWithNumbers": true,
   "eqNumInitial": 1,
   "hotkeys": {
    "equation": "Ctrl-E",
    "itemize": "Ctrl-I"
   },
   "labels_anchors": false,
   "latex_user_defs": false,
   "report_style_numbering": false,
   "user_envs_cfg": false
  }
 },
 "nbformat": 4,
 "nbformat_minor": 2
}
