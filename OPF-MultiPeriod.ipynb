{
 "cells": [
  {
   "cell_type": "code",
   "execution_count": 1,
   "metadata": {},
   "outputs": [],
   "source": [
    "from gurobipy import *\n",
    "from prettytable import PrettyTable\n",
    "from math import pi\n",
    "import numpy as np"
   ]
  },
  {
   "cell_type": "code",
   "execution_count": 2,
   "metadata": {},
   "outputs": [],
   "source": [
    "OPF = Model('3 bus OPF')"
   ]
  },
  {
   "cell_type": "code",
   "execution_count": 3,
   "metadata": {},
   "outputs": [],
   "source": [
    "#Sets\n",
    "G = 3 # Generators\n",
    "B = 3 # Bus\n",
    "L = 3 #Lines\n",
    "T = 2\n",
    "Gen = range(G)\n",
    "Bus = range(B)\n",
    "Line = range(L)\n",
    "Period = range(T)"
   ]
  },
  {
   "cell_type": "markdown",
   "metadata": {},
   "source": [
    "### Input the susceptance for each transmission line"
   ]
  },
  {
   "cell_type": "code",
   "execution_count": 4,
   "metadata": {},
   "outputs": [],
   "source": [
    "B1 = {(0,1):{'B':-10 ,'Limit':1000 },\n",
    "      (0,2):{'B':-8 ,'Limit':1000 },\n",
    "      (1,2):{'B':-5 ,'Limit':1500 } }"
   ]
  },
  {
   "cell_type": "markdown",
   "metadata": {},
   "source": [
    "### Generate the graph"
   ]
  },
  {
   "cell_type": "code",
   "execution_count": 5,
   "metadata": {},
   "outputs": [],
   "source": [
    "y = list(B1.keys())\n",
    "x=list(map (lambda t: (t[1], t[0]), y))\n",
    "B2=dict(zip(x,B1.values()))\n",
    "B3 = {**B1, **B2}"
   ]
  },
  {
   "cell_type": "code",
   "execution_count": 6,
   "metadata": {},
   "outputs": [
    {
     "data": {
      "text/plain": [
       "{(0, 1, 0): {'B': -10, 'Limit': 1000},\n",
       " (0, 2, 0): {'B': -8, 'Limit': 1000},\n",
       " (1, 2, 0): {'B': -5, 'Limit': 1500},\n",
       " (1, 0, 0): {'B': -10, 'Limit': 1000},\n",
       " (2, 0, 0): {'B': -8, 'Limit': 1000},\n",
       " (2, 1, 0): {'B': -5, 'Limit': 1500},\n",
       " (0, 1, 1): {'B': -10, 'Limit': 1000},\n",
       " (0, 2, 1): {'B': -8, 'Limit': 1000},\n",
       " (1, 2, 1): {'B': -5, 'Limit': 1500},\n",
       " (1, 0, 1): {'B': -10, 'Limit': 1000},\n",
       " (2, 0, 1): {'B': -8, 'Limit': 1000},\n",
       " (2, 1, 1): {'B': -5, 'Limit': 1500}}"
      ]
     },
     "execution_count": 6,
     "metadata": {},
     "output_type": "execute_result"
    }
   ],
   "source": [
    "tuple_list = list(B3.keys())\n",
    "desired_list = [tuple(list(tup)+[t])  for t in Period for tup in tuple_list]\n",
    "desired_list\n",
    "vals=[B3[(i,j)] for (i,j) in B3.keys()]*T\n",
    "B = dict(zip(desired_list,vals))\n",
    "B"
   ]
  },
  {
   "cell_type": "code",
   "execution_count": 7,
   "metadata": {},
   "outputs": [],
   "source": [
    "L = {(0,0):200, (1,0):550, (2,0):100, (0,1):200, (1,1):550, (2,1):100} # electircal Load (MW)\n",
    "Sbase = 100 # Power Base (MVA)"
   ]
  },
  {
   "cell_type": "code",
   "execution_count": 8,
   "metadata": {},
   "outputs": [
    {
     "data": {
      "text/plain": [
       "{0: {'a': 0.001562, 'b': 7.92, 'c': 561, 'Pmin': 150, 'Pmax': 600},\n",
       " 1: {'a': 0.00194, 'b': 7.85, 'c': 310, 'Pmin': 100, 'Pmax': 400},\n",
       " 2: {'a': 0.00482, 'b': 7.97, 'c': 78, 'Pmin': 50, 'Pmax': 200}}"
      ]
     },
     "execution_count": 8,
     "metadata": {},
     "output_type": "execute_result"
    }
   ],
   "source": [
    "GenAt = {Gen[0]:{'a':0.001562 ,'b':7.92 ,'c':561, 'Pmin':150 ,'Pmax':600},\n",
    "         Gen[1]:{'a':0.001940 ,'b':7.85 ,'c':310, 'Pmin':100 ,'Pmax':400},\n",
    "         Gen[2]:{'a':0.004820 ,'b':7.97 ,'c':78,  'Pmin':50 , 'Pmax':200}}\n",
    "GenAt"
   ]
  },
  {
   "cell_type": "code",
   "execution_count": 9,
   "metadata": {},
   "outputs": [],
   "source": [
    "Pmin = [(GenAt[i]['Pmin']) for i in Gen]\n",
    "Pmax = [(GenAt[i]['Pmax']) for i in Gen]\n",
    "g = [(a,t)  for t in Period for a in Gen]\n",
    "b = [(a,t)  for t in Period for a in Bus] "
   ]
  },
  {
   "cell_type": "code",
   "execution_count": 10,
   "metadata": {},
   "outputs": [
    {
     "data": {
      "text/plain": [
       "{(0, 0): <gurobi.Var Pgen[0,0]>,\n",
       " (1, 0): <gurobi.Var Pgen[1,0]>,\n",
       " (2, 0): <gurobi.Var Pgen[2,0]>,\n",
       " (0, 1): <gurobi.Var Pgen[0,1]>,\n",
       " (1, 1): <gurobi.Var Pgen[1,1]>,\n",
       " (2, 1): <gurobi.Var Pgen[2,1]>}"
      ]
     },
     "execution_count": 10,
     "metadata": {},
     "output_type": "execute_result"
    }
   ],
   "source": [
    "P = OPF.addVars(g, lb = Pmin*T, ub = Pmax*T, name = 'Pgen')\n",
    "Delta = OPF.addVars(b, lb = -6*T, ub = 6*T, name = 'Delta')\n",
    "Pij = OPF.addVars(B, lb = [-B[(i,j,t)]['Limit']  for (i,j,t) in B.keys()], \n",
    "                  ub = [B[(i,j,t)]['Limit'] for (i,j,t) in B.keys()], name = 'PF')\n",
    "P"
   ]
  },
  {
   "cell_type": "code",
   "execution_count": 11,
   "metadata": {},
   "outputs": [],
   "source": [
    "PowerFlow = OPF.addConstrs((Pij[(i,j,t)] == Sbase*(Delta[i,t]-Delta[j,t])*(B[(i,j,t)]['B']) for (i,j,t) in Pij.keys()), name = 'PowerFlow')\n",
    "NetBus = OPF.addConstrs( (P[(i,t)] - (L[i,t])  == Pij.sum(i,'*',t) for (i,t) in g ), name = 'NetBus')\n",
    "\n",
    "for t in Period:\n",
    "    Delta[(0,t)].lb = 0\n",
    "    Delta[(0,t)].ub = 0"
   ]
  },
  {
   "cell_type": "code",
   "execution_count": 12,
   "metadata": {},
   "outputs": [],
   "source": [
    "OF = quicksum(GenAt[i]['c']+GenAt[i]['b']*P[(i,t)]+GenAt[i]['a']*P[(i,t)]*P[(i,t)] for (i,t) in g)"
   ]
  },
  {
   "cell_type": "code",
   "execution_count": 13,
   "metadata": {},
   "outputs": [
    {
     "name": "stdout",
     "output_type": "stream",
     "text": [
      "Parameter Method unchanged\n",
      "   Value: -1  Min: -1  Max: 5  Default: -1\n",
      "Parameter OutputFlag unchanged\n",
      "   Value: 1  Min: 0  Max: 1  Default: 1\n",
      "Optimize a model with 18 rows, 24 columns and 54 nonzeros\n",
      "Model has 6 quadratic objective terms\n",
      "Coefficient statistics:\n",
      "  Matrix range     [1e+00, 1e+03]\n",
      "  Objective range  [8e+00, 8e+00]\n",
      "  QObjective range [3e-03, 1e-02]\n",
      "  Bounds range     [1e+01, 2e+03]\n",
      "  RHS range        [1e+02, 6e+02]\n",
      "Presolve removed 16 rows and 18 columns\n",
      "Presolve time: 0.01s\n",
      "Presolved: 2 rows, 6 columns, 6 nonzeros\n",
      "Presolved model has 6 quadratic objective terms\n",
      "Ordering time: 0.00s\n",
      "\n",
      "Barrier statistics:\n",
      " AA' NZ     : 0.000e+00\n",
      " Factor NZ  : 2.000e+00\n",
      " Factor Ops : 2.000e+00 (less than 1 second per iteration)\n",
      " Threads    : 1\n",
      "\n",
      "                  Objective                Residual\n",
      "Iter       Primal          Dual         Primal    Dual     Compl     Time\n",
      "   0   3.15802601e+06 -2.59102091e+06  2.50e+03 9.93e+02  1.01e+06     0s\n",
      "   1   1.63988293e+04 -1.13528094e+05  2.50e-03 9.93e-04  1.08e+04     0s\n",
      "   2   1.63978724e+04  1.61674641e+04  1.79e-06 7.12e-07  1.92e+01     0s\n",
      "   3   1.63888183e+04  1.63827541e+04  5.60e-09 2.23e-09  5.05e-01     0s\n",
      "   4   1.63887122e+04  1.63886886e+04  0.00e+00 0.00e+00  1.97e-03     0s\n",
      "   5   1.63887122e+04  1.63887122e+04  0.00e+00 1.78e-15  1.97e-06     0s\n",
      "   6   1.63887122e+04  1.63887122e+04  0.00e+00 5.33e-15  1.97e-09     0s\n",
      "\n",
      "Barrier solved model in 6 iterations and 0.02 seconds\n",
      "Optimal objective 1.63887122e+04\n",
      "\n"
     ]
    }
   ],
   "source": [
    "OPF.setObjective(OF, GRB.MINIMIZE)\n",
    "OPF.Params.Method=-1\n",
    "OPF.setParam( 'OutputFlag', True )\n",
    "OPF.optimize()\n",
    "\n",
    "\n",
    "\n",
    "status = OPF.status\n",
    "if status == GRB.Status.INF_OR_UNBD or status == GRB.Status.INFEASIBLE \\\n",
    "or status == GRB.Status.UNBOUNDED:\n",
    "    OPF.computeIIS()\n",
    "    OPF.write(\"model.ilp\")\n",
    "OPF.write(\"model.lp\")"
   ]
  },
  {
   "cell_type": "code",
   "execution_count": 14,
   "metadata": {},
   "outputs": [
    {
     "name": "stdout",
     "output_type": "stream",
     "text": [
      "\n",
      "Statistics for model 3 bus OPF :\n",
      "  Linear constraint matrix    : 18 Constrs, 24 Vars, 54 NZs\n",
      "  Matrix coefficient range    : [ 1, 1000 ]\n",
      "  Objective coefficient range : [ 7.85, 7.97 ]\n",
      "  Variable bound range        : [ 12, 1500 ]\n",
      "  RHS coefficient range       : [ 100, 550 ]\n"
     ]
    }
   ],
   "source": [
    "OPF.printStats()"
   ]
  },
  {
   "cell_type": "code",
   "execution_count": 15,
   "metadata": {
    "scrolled": true
   },
   "outputs": [
    {
     "data": {
      "text/plain": [
       "[<gurobi.Var Pgen[0,0] (value 393.1698369628845)>,\n",
       " <gurobi.Var Pgen[1,0] (value 334.6037552894586)>,\n",
       " <gurobi.Var Pgen[2,0] (value 122.22640774765692)>,\n",
       " <gurobi.Var Pgen[0,1] (value 393.1698369628845)>,\n",
       " <gurobi.Var Pgen[1,1] (value 334.6037552894586)>,\n",
       " <gurobi.Var Pgen[2,1] (value 122.22640774765692)>,\n",
       " <gurobi.Var Delta[0,0] (value 0.0)>,\n",
       " <gurobi.Var Delta[1,0] (value 0.15817759661757372)>,\n",
       " <gurobi.Var Delta[2,0] (value 0.04374030043163849)>,\n",
       " <gurobi.Var Delta[0,1] (value 0.0)>,\n",
       " <gurobi.Var Delta[1,1] (value 0.15817759661757372)>,\n",
       " <gurobi.Var Delta[2,1] (value 0.04374030043163849)>,\n",
       " <gurobi.Var PF[0,1,0] (value 158.17759661757373)>,\n",
       " <gurobi.Var PF[0,2,0] (value 34.99224034531079)>,\n",
       " <gurobi.Var PF[1,2,0] (value -57.21864809296767)>,\n",
       " <gurobi.Var PF[1,0,0] (value -158.17759661757373)>,\n",
       " <gurobi.Var PF[2,0,0] (value -34.99224034531079)>,\n",
       " <gurobi.Var PF[2,1,0] (value 57.21864809296771)>,\n",
       " <gurobi.Var PF[0,1,1] (value 158.17759661757373)>,\n",
       " <gurobi.Var PF[0,2,1] (value 34.99224034531079)>,\n",
       " <gurobi.Var PF[1,2,1] (value -57.21864809296767)>,\n",
       " <gurobi.Var PF[1,0,1] (value -158.17759661757373)>,\n",
       " <gurobi.Var PF[2,0,1] (value -34.99224034531079)>,\n",
       " <gurobi.Var PF[2,1,1] (value 57.21864809296771)>]"
      ]
     },
     "execution_count": 15,
     "metadata": {},
     "output_type": "execute_result"
    }
   ],
   "source": [
    "OPF.getVars()"
   ]
  },
  {
   "cell_type": "code",
   "execution_count": 16,
   "metadata": {},
   "outputs": [
    {
     "ename": "KeyError",
     "evalue": "(1, 2)",
     "output_type": "error",
     "traceback": [
      "\u001b[1;31m---------------------------------------------------------------------------\u001b[0m",
      "\u001b[1;31mKeyError\u001b[0m                                  Traceback (most recent call last)",
      "\u001b[1;32m<ipython-input-16-a3ebdcca8b5f>\u001b[0m in \u001b[0;36m<module>\u001b[1;34m()\u001b[0m\n\u001b[1;32m----> 1\u001b[1;33m \u001b[0mPij\u001b[0m\u001b[1;33m[\u001b[0m\u001b[1;33m(\u001b[0m\u001b[1;36m1\u001b[0m\u001b[1;33m,\u001b[0m\u001b[1;36m2\u001b[0m\u001b[1;33m)\u001b[0m\u001b[1;33m]\u001b[0m\u001b[1;33m.\u001b[0m\u001b[0mlb\u001b[0m\u001b[1;33m\u001b[0m\u001b[0m\n\u001b[0m",
      "\u001b[1;31mKeyError\u001b[0m: (1, 2)"
     ]
    }
   ],
   "source": [
    "Pij[(1,2)].lb"
   ]
  },
  {
   "cell_type": "code",
   "execution_count": null,
   "metadata": {},
   "outputs": [],
   "source": [
    "tuple_list = [(0,1), (0,2), (1,2)]\n",
    "time = range(5)"
   ]
  },
  {
   "cell_type": "code",
   "execution_count": null,
   "metadata": {},
   "outputs": [],
   "source": [
    "desired_list = [tuple(list(tup)+[t])  for t in time for tup in tuple_list]"
   ]
  },
  {
   "cell_type": "code",
   "execution_count": null,
   "metadata": {},
   "outputs": [],
   "source": [
    "desired_list"
   ]
  },
  {
   "cell_type": "code",
   "execution_count": null,
   "metadata": {},
   "outputs": [],
   "source": []
  }
 ],
 "metadata": {
  "kernelspec": {
   "display_name": "Python 3",
   "language": "python",
   "name": "python3"
  },
  "language_info": {
   "codemirror_mode": {
    "name": "ipython",
    "version": 3
   },
   "file_extension": ".py",
   "mimetype": "text/x-python",
   "name": "python",
   "nbconvert_exporter": "python",
   "pygments_lexer": "ipython3",
   "version": "3.6.6"
  },
  "latex_envs": {
   "LaTeX_envs_menu_present": true,
   "autocomplete": true,
   "bibliofile": "biblio.bib",
   "cite_by": "apalike",
   "current_citInitial": 1,
   "eqLabelWithNumbers": true,
   "eqNumInitial": 1,
   "hotkeys": {
    "equation": "Ctrl-E",
    "itemize": "Ctrl-I"
   },
   "labels_anchors": false,
   "latex_user_defs": false,
   "report_style_numbering": false,
   "user_envs_cfg": false
  }
 },
 "nbformat": 4,
 "nbformat_minor": 2
}
