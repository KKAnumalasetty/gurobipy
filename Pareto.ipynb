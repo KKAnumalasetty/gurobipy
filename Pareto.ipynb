{
 "cells": [
  {
   "cell_type": "code",
   "execution_count": 88,
   "metadata": {},
   "outputs": [
    {
     "name": "stdout",
     "output_type": "stream",
     "text": [
      "Parameter Method unchanged\n",
      "   Value: -1  Min: -1  Max: 5  Default: -1\n",
      "+---------------+-----------+----------------+\n",
      "| Min Objective |  Cost (€) | Emissions (kg) |\n",
      "+---------------+-----------+----------------+\n",
      "|      Cost     |  131455.0 |    96450.75    |\n",
      "|   Emissions   | 148684.73 |    87089.4     |\n",
      "+---------------+-----------+----------------+\n"
     ]
    }
   ],
   "source": [
    "from gurobipy import *\n",
    "from prettytable import PrettyTable\n",
    "from numpy import array, concatenate,append\n",
    "\n",
    "EC = Model('Multi Economic Dispatch')\n",
    "Gen = ['Gen1','Gen2', 'Gen3', 'Gen4', 'Gen5']\n",
    "GenAt = {Gen[0]:{'a':3 ,'b':20 ,'c':100, 'd':2 ,'e':-5 ,'f':3 , 'Pmin':28 ,'Pmax':206 },\n",
    "      Gen[1]:{'a':4.05 ,'b':18.07 ,'c':98.87 , 'd':3.82 ,'e':-4.24 ,'f':6.09 , 'Pmin':90 ,'Pmax':284 },\n",
    "      Gen[2]:{'a':4.05 ,'b':15.55 ,'c':104.26 , 'd':5.01 ,'e':-2.15 ,'f':5.69 ,'Pmin':68 ,'Pmax':189 },\n",
    "      Gen[3]:{'a':3.99 ,'b':19.21 ,'c':107.21 , 'd':1.1 ,'e':-3.99 ,'f':6.2 ,'Pmin':76 ,'Pmax':266 },  \n",
    "      Gen[4]:{'a':3.88 ,'b':26.18 ,'c':95.31 , 'd':3.55 ,'e':-6.88 ,'f':5.57 ,'Pmin':19 ,'Pmax':53 }  }\n",
    "\n",
    "Iter =40\n",
    "Load=400\n",
    "TotalLoad=[]\n",
    "Objective=[]\n",
    "Var=[]\n",
    "CostPeriod = []\n",
    "EmissionPeriod = []\n",
    "\n",
    "P = EC.addVars(Gen,lb = [GenAt[i]['Pmin'] for i in Gen], ub = [GenAt[i]['Pmax'] for i in Gen],name = 'Power')\n",
    "GenTotal = quicksum(P[i] for i in Gen)\n",
    "GenCost = quicksum(GenAt[i]['c']+GenAt[i]['b']*P[i]+GenAt[i]['a']*P[i]*P[i] for i in Gen)\n",
    "GenEmissions = quicksum(GenAt[i]['f']+GenAt[i]['e']*P[i]+GenAt[i]['d']*P[i]*P[i] for i in Gen)\n",
    "\n",
    "#Constraint\n",
    "target = EC.addConstr( GenTotal == Load, name = 'DemandConst')\n",
    "\n",
    "EC.setObjective(GenCost, GRB.MINIMIZE)\n",
    "\n",
    "EC.Params.Method=-1\n",
    "EC.setParam( 'OutputFlag', False )\n",
    "EC.optimize()\n",
    "CostMin = GenCost.getValue()\n",
    "EmissionMax = GenEmissions.getValue()\n",
    "\n",
    "\n",
    "EC.setObjective(GenEmissions, GRB.MINIMIZE)\n",
    "\n",
    "EC.Params.Method=-1\n",
    "EC.setParam( 'OutputFlag', False )\n",
    "EC.optimize()\n",
    "CostMax = GenCost.getValue()\n",
    "EmissionMin = GenEmissions.getValue()\n",
    "\n",
    "\n",
    "Results = PrettyTable(['Min Objective','Cost (€)','Emissions (kg)'])\n",
    "Results.add_row(['Cost', round(CostMin,2), round(EmissionMax,2)])\n",
    "Results.add_row(['Emissions', round(CostMax,2), round(EmissionMin,2)])                 \n",
    "print(Results)\n",
    "\n",
    "\n",
    "\n",
    "\n",
    "for c in range(Iter):\n",
    "    ELim = (EmissionMin) + ((c)/(Iter-1))*(EmissionMax - EmissionMin)\n",
    "    \n",
    "    P = EC.addVars(Gen,lb = [GenAt[i]['Pmin'] for i in Gen], ub = [GenAt[i]['Pmax'] for i in Gen],name = 'Power')\n",
    "    GenTotal = quicksum(P[i] for i in Gen)\n",
    "    GenCost = quicksum(GenAt[i]['c']+GenAt[i]['b']*P[i]+GenAt[i]['a']*P[i]*P[i] for i in Gen)\n",
    "    GenEmissions = quicksum(GenAt[i]['f']+GenAt[i]['e']*P[i]+GenAt[i]['d']*P[i]*P[i] for i in Gen)\n",
    "\n",
    "    #Constraint\n",
    "    target = EC.addConstr( GenTotal == Load, name = 'DemandConst')\n",
    "    \n",
    "    \n",
    "    \n",
    "    \n",
    "    #Constraint    \n",
    "    EmissionConstr = EC.addConstr( GenEmissions <= ELim, name = 'EmissionConstr')\n",
    "    EC.setObjective(GenCost, GRB.MINIMIZE)\n",
    "\n",
    "    EC.Params.Method=-1\n",
    "    EC.setParam( 'OutputFlag', False )\n",
    "    EC.optimize()\n",
    "    \n",
    "    CostMinI = GenCost.getValue()\n",
    "    EmissionMinI = GenEmissions.getValue()\n",
    "    CostPeriod.append(CostMinI)\n",
    "    EmissionPeriod.append(EmissionMinI)\n",
    "    "
   ]
  },
  {
   "cell_type": "code",
   "execution_count": 89,
   "metadata": {},
   "outputs": [
    {
     "data": {
      "text/plain": [
       "<matplotlib.axes._subplots.AxesSubplot at 0xb01e278>"
      ]
     },
     "execution_count": 89,
     "metadata": {},
     "output_type": "execute_result"
    },
    {
     "data": {
      "image/png": "[encoded data removed]",
      "text/plain": [
       "<Figure size 432x288 with 1 Axes>"
      ]
     },
     "metadata": {},
     "output_type": "display_data"
    }
   ],
   "source": [
    "import seaborn as sns; sns.set()\n",
    "import matplotlib.pyplot as plt\n",
    "from pandas import DataFrame\n",
    "CP = array(CostPeriod, ndmin =2 )\n",
    "EP = array(EmissionPeriod, ndmin = 2)\n",
    "d = concatenate([CP, EP], axis = 0)\n",
    "df = DataFrame(d.T, columns = ['Cost (€)', 'Emissions (kg)'])\n",
    "sns.scatterplot(x='Cost (€)' , y = 'Emissions (kg)', data = df)"
   ]
  },
  {
   "cell_type": "code",
   "execution_count": null,
   "metadata": {},
   "outputs": [],
   "source": []
  }
 ],
 "metadata": {
  "kernelspec": {
   "display_name": "Python 3",
   "language": "python",
   "name": "python3"
  },
  "language_info": {
   "codemirror_mode": {
    "name": "ipython",
    "version": 3
   },
   "file_extension": ".py",
   "mimetype": "text/x-python",
   "name": "python",
   "nbconvert_exporter": "python",
   "pygments_lexer": "ipython3",
   "version": "3.6.6"
  },
  "latex_envs": {
   "LaTeX_envs_menu_present": true,
   "autocomplete": true,
   "bibliofile": "biblio.bib",
   "cite_by": "apalike",
   "current_citInitial": 1,
   "eqLabelWithNumbers": true,
   "eqNumInitial": 1,
   "hotkeys": {
    "equation": "Ctrl-E",
    "itemize": "Ctrl-I"
   },
   "labels_anchors": false,
   "latex_user_defs": false,
   "report_style_numbering": false,
   "user_envs_cfg": false
  }
 },
 "nbformat": 4,
 "nbformat_minor": 2
}
