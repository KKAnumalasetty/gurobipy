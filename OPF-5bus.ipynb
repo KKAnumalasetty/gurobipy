{
 "cells": [
  {
   "cell_type": "code",
   "execution_count": 16,
   "metadata": {},
   "outputs": [],
   "source": [
    "from gurobipy import *\n",
    "from prettytable import PrettyTable\n",
    "from math import pi\n",
    "import numpy as np"
   ]
  },
  {
   "cell_type": "code",
   "execution_count": 17,
   "metadata": {},
   "outputs": [],
   "source": [
    "OPF = Model('3 bus OPF')"
   ]
  },
  {
   "cell_type": "code",
   "execution_count": 121,
   "metadata": {},
   "outputs": [],
   "source": [
    "#Sets\n",
    "G = 3 # Generators\n",
    "B = 3 # Bus\n",
    "L = 3 #Lines\n",
    "T = 1\n",
    "Gen = range(G)\n",
    "Bus = range(B)\n",
    "Line = range(L)\n",
    "Period = range(T)"
   ]
  },
  {
   "cell_type": "markdown",
   "metadata": {},
   "source": [
    "### Input the susceptance for each transmission line"
   ]
  },
  {
   "cell_type": "code",
   "execution_count": 122,
   "metadata": {},
   "outputs": [],
   "source": [
    "B1 = {(0,1):{'B':-10 ,'Limit':1000 },\n",
    "      (0,2):{'B':-8 ,'Limit':1000 },\n",
    "      (1,2):{'B':-5 ,'Limit':1500 } }"
   ]
  },
  {
   "cell_type": "markdown",
   "metadata": {},
   "source": [
    "### Generate the graph"
   ]
  },
  {
   "cell_type": "code",
   "execution_count": 123,
   "metadata": {},
   "outputs": [],
   "source": [
    "y = list(B1.keys())\n",
    "x=list(map (lambda t: (t[1], t[0]), y))\n",
    "B2=dict(zip(x,B1.values()))\n",
    "B = {**B1, **B2}"
   ]
  },
  {
   "cell_type": "code",
   "execution_count": 124,
   "metadata": {},
   "outputs": [
    {
     "data": {
      "text/plain": [
       "{(0, 1, 0): {'B': -10, 'Limit': 1000},\n",
       " (0, 2, 0): {'B': -8, 'Limit': 1000},\n",
       " (1, 2, 0): {'B': -5, 'Limit': 1500},\n",
       " (1, 0, 0): {'B': -10, 'Limit': 1000},\n",
       " (2, 0, 0): {'B': -8, 'Limit': 1000},\n",
       " (2, 1, 0): {'B': -5, 'Limit': 1500}}"
      ]
     },
     "execution_count": 124,
     "metadata": {},
     "output_type": "execute_result"
    }
   ],
   "source": [
    "tuple_list = list(B.keys())\n",
    "desired_list = [tuple(list(tup)+[t])  for t in Period for tup in tuple_list]\n",
    "desired_list\n",
    "vals=[B[(i,j)] for (i,j) in B.keys()]*T\n",
    "B = dict(zip(desired_list,vals))\n",
    "B"
   ]
  },
  {
   "cell_type": "code",
   "execution_count": 125,
   "metadata": {},
   "outputs": [],
   "source": [
    "L = {(0,0):200, (1,0):550, (2,0):100} # electircal Load (MW)\n",
    "Sbase = 100 # Power Base (MVA)"
   ]
  },
  {
   "cell_type": "code",
   "execution_count": 126,
   "metadata": {},
   "outputs": [
    {
     "data": {
      "text/plain": [
       "{0: {'a': 0.001562, 'b': 7.92, 'c': 561, 'Pmin': 150, 'Pmax': 600},\n",
       " 1: {'a': 0.00194, 'b': 7.85, 'c': 310, 'Pmin': 100, 'Pmax': 400},\n",
       " 2: {'a': 0.00482, 'b': 7.97, 'c': 78, 'Pmin': 50, 'Pmax': 200}}"
      ]
     },
     "execution_count": 126,
     "metadata": {},
     "output_type": "execute_result"
    }
   ],
   "source": [
    "GenAt = {Gen[0]:{'a':0.001562 ,'b':7.92 ,'c':561, 'Pmin':150 ,'Pmax':600},\n",
    "         Gen[1]:{'a':0.001940 ,'b':7.85 ,'c':310, 'Pmin':100 ,'Pmax':400},\n",
    "         Gen[2]:{'a':0.004820 ,'b':7.97 ,'c':78,  'Pmin':50 , 'Pmax':200}}\n",
    "GenAt"
   ]
  },
  {
   "cell_type": "code",
   "execution_count": 127,
   "metadata": {},
   "outputs": [],
   "source": [
    "Pmin = [(GenAt[i]['Pmin']) for i in Gen]\n",
    "Pmax = [(GenAt[i]['Pmax']) for i in Gen]\n",
    "g = [(a,t) for a in Gen for t in Period]\n",
    "b = [(a,t) for a in Bus for t in Period] "
   ]
  },
  {
   "cell_type": "code",
   "execution_count": 60,
   "metadata": {},
   "outputs": [],
   "source": [
    "P = OPF.addVars(g, lb = Pmin, ub = Pmax, name = 'Pgen')\n",
    "Delta = OPF.addVars(b, lb = -6, ub = 6, name = 'Delta')\n",
    "Pij = OPF.addVars(B, lb = [-B[(i,j,t)]['Limit'] for (i,j) in B.keys()], \n",
    "                  ub = [B[(i,j,t)]['Limit'] for (i,j) in B.keys()], name = 'PF')"
   ]
  },
  {
   "cell_type": "code",
   "execution_count": 25,
   "metadata": {},
   "outputs": [],
   "source": [
    "PowerFlow = OPF.addConstrs((Pij[(i,j)] == Sbase*(Delta[i]-Delta[j])*(B[(i,j)]['B']) for (i,j) in Pij.keys()), name = 'PowerFlow')\n",
    "NetBus = OPF.addConstrs( (P[i] - (L[i])  == Pij.sum(i,'*') for i in Gen ), name = 'NetBus')\n",
    "\n",
    "Delta[0].lb = 0\n",
    "Delta[0].ub = 0"
   ]
  },
  {
   "cell_type": "code",
   "execution_count": 26,
   "metadata": {},
   "outputs": [],
   "source": [
    "OF = quicksum(GenAt[i]['c']+GenAt[i]['b']*P[i]+GenAt[i]['a']*P[i]*P[i] for i in Gen)"
   ]
  },
  {
   "cell_type": "code",
   "execution_count": 27,
   "metadata": {},
   "outputs": [
    {
     "name": "stdout",
     "output_type": "stream",
     "text": [
      "Parameter Method unchanged\n",
      "   Value: -1  Min: -1  Max: 5  Default: -1\n",
      "Parameter OutputFlag unchanged\n",
      "   Value: 1  Min: 0  Max: 1  Default: 1\n",
      "Optimize a model with 9 rows, 12 columns and 27 nonzeros\n",
      "Model has 3 quadratic objective terms\n",
      "Coefficient statistics:\n",
      "  Matrix range     [1e+00, 1e+03]\n",
      "  Objective range  [8e+00, 8e+00]\n",
      "  QObjective range [3e-03, 1e-02]\n",
      "  Bounds range     [6e+00, 2e+03]\n",
      "  RHS range        [1e+02, 6e+02]\n",
      "Presolve removed 8 rows and 9 columns\n",
      "Presolve time: 0.01s\n",
      "Presolved: 1 rows, 3 columns, 3 nonzeros\n",
      "Presolved model has 3 quadratic objective terms\n",
      "Ordering time: 0.00s\n",
      "\n",
      "Barrier statistics:\n",
      " AA' NZ     : 0.000e+00\n",
      " Factor NZ  : 1.000e+00\n",
      " Factor Ops : 1.000e+00 (less than 1 second per iteration)\n",
      " Threads    : 1\n",
      "\n",
      "                  Objective                Residual\n",
      "Iter       Primal          Dual         Primal    Dual     Compl     Time\n",
      "   0   1.57901300e+06 -1.29551045e+06  2.50e+03 9.93e+02  1.01e+06     0s\n",
      "   1   8.19941466e+03 -5.67640472e+04  2.50e-03 9.93e-04  1.08e+04     0s\n",
      "   2   8.19893618e+03  8.08373207e+03  1.79e-06 7.12e-07  1.92e+01     0s\n",
      "   3   8.19440913e+03  8.19137703e+03  5.60e-09 2.23e-09  5.05e-01     0s\n",
      "   4   8.19435612e+03  8.19434428e+03  0.00e+00 0.00e+00  1.97e-03     0s\n",
      "   5   8.19435612e+03  8.19435611e+03  0.00e+00 1.78e-15  1.97e-06     0s\n",
      "   6   8.19435612e+03  8.19435612e+03  0.00e+00 5.33e-15  1.97e-09     0s\n",
      "\n",
      "Barrier solved model in 6 iterations and 0.02 seconds\n",
      "Optimal objective 8.19435612e+03\n",
      "\n"
     ]
    }
   ],
   "source": [
    "OPF.setObjective(OF, GRB.MINIMIZE)\n",
    "OPF.Params.Method=-1\n",
    "OPF.setParam( 'OutputFlag', True )\n",
    "OPF.optimize()\n",
    "\n",
    "\n",
    "\n",
    "status = OPF.status\n",
    "if status == GRB.Status.INF_OR_UNBD or status == GRB.Status.INFEASIBLE \\\n",
    "or status == GRB.Status.UNBOUNDED:\n",
    "    OPF.computeIIS()\n",
    "    OPF.write(\"model.ilp\")\n",
    "OPF.write(\"model.lp\")"
   ]
  },
  {
   "cell_type": "code",
   "execution_count": 28,
   "metadata": {},
   "outputs": [
    {
     "name": "stdout",
     "output_type": "stream",
     "text": [
      "\n",
      "Statistics for model 3 bus OPF :\n",
      "  Linear constraint matrix    : 9 Constrs, 12 Vars, 27 NZs\n",
      "  Matrix coefficient range    : [ 1, 1000 ]\n",
      "  Objective coefficient range : [ 7.85, 7.97 ]\n",
      "  Variable bound range        : [ 6, 1500 ]\n",
      "  RHS coefficient range       : [ 100, 550 ]\n"
     ]
    }
   ],
   "source": [
    "OPF.printStats()"
   ]
  },
  {
   "cell_type": "code",
   "execution_count": 29,
   "metadata": {
    "scrolled": true
   },
   "outputs": [
    {
     "data": {
      "text/plain": [
       "[<gurobi.Var Pgen[0] (value 393.1698369628845)>,\n",
       " <gurobi.Var Pgen[1] (value 334.6037552894586)>,\n",
       " <gurobi.Var Pgen[2] (value 122.22640774765692)>,\n",
       " <gurobi.Var Delta[0] (value 0.0)>,\n",
       " <gurobi.Var Delta[1] (value 0.15817759661757372)>,\n",
       " <gurobi.Var Delta[2] (value 0.04374030043163849)>,\n",
       " <gurobi.Var PF[0,1] (value 158.17759661757373)>,\n",
       " <gurobi.Var PF[0,2] (value 34.99224034531079)>,\n",
       " <gurobi.Var PF[1,2] (value -57.21864809296767)>,\n",
       " <gurobi.Var PF[1,0] (value -158.17759661757373)>,\n",
       " <gurobi.Var PF[2,0] (value -34.99224034531079)>,\n",
       " <gurobi.Var PF[2,1] (value 57.21864809296771)>]"
      ]
     },
     "execution_count": 29,
     "metadata": {},
     "output_type": "execute_result"
    }
   ],
   "source": [
    "OPF.getVars()"
   ]
  },
  {
   "cell_type": "code",
   "execution_count": 30,
   "metadata": {},
   "outputs": [
    {
     "data": {
      "text/plain": [
       "-1500.0"
      ]
     },
     "execution_count": 30,
     "metadata": {},
     "output_type": "execute_result"
    }
   ],
   "source": [
    "Pij[(1,2)].lb"
   ]
  },
  {
   "cell_type": "code",
   "execution_count": 92,
   "metadata": {},
   "outputs": [],
   "source": [
    "tuple_list = [(0,1), (0,2), (1,2)]\n",
    "time = range(5)"
   ]
  },
  {
   "cell_type": "code",
   "execution_count": 93,
   "metadata": {},
   "outputs": [],
   "source": [
    "desired_list = [tuple(list(tup)+[t])  for t in time for tup in tuple_list]"
   ]
  },
  {
   "cell_type": "code",
   "execution_count": 94,
   "metadata": {},
   "outputs": [
    {
     "data": {
      "text/plain": [
       "[(0, 1, 0),\n",
       " (0, 2, 0),\n",
       " (1, 2, 0),\n",
       " (0, 1, 1),\n",
       " (0, 2, 1),\n",
       " (1, 2, 1),\n",
       " (0, 1, 2),\n",
       " (0, 2, 2),\n",
       " (1, 2, 2),\n",
       " (0, 1, 3),\n",
       " (0, 2, 3),\n",
       " (1, 2, 3),\n",
       " (0, 1, 4),\n",
       " (0, 2, 4),\n",
       " (1, 2, 4)]"
      ]
     },
     "execution_count": 94,
     "metadata": {},
     "output_type": "execute_result"
    }
   ],
   "source": [
    "desired_list"
   ]
  },
  {
   "cell_type": "code",
   "execution_count": null,
   "metadata": {},
   "outputs": [],
   "source": []
  }
 ],
 "metadata": {
  "kernelspec": {
   "display_name": "Python 3",
   "language": "python",
   "name": "python3"
  },
  "language_info": {
   "codemirror_mode": {
    "name": "ipython",
    "version": 3
   },
   "file_extension": ".py",
   "mimetype": "text/x-python",
   "name": "python",
   "nbconvert_exporter": "python",
   "pygments_lexer": "ipython3",
   "version": "3.6.6"
  },
  "latex_envs": {
   "LaTeX_envs_menu_present": true,
   "autocomplete": true,
   "bibliofile": "biblio.bib",
   "cite_by": "apalike",
   "current_citInitial": 1,
   "eqLabelWithNumbers": true,
   "eqNumInitial": 1,
   "hotkeys": {
    "equation": "Ctrl-E",
    "itemize": "Ctrl-I"
   },
   "labels_anchors": false,
   "latex_user_defs": false,
   "report_style_numbering": false,
   "user_envs_cfg": false
  }
 },
 "nbformat": 4,
 "nbformat_minor": 2
}
